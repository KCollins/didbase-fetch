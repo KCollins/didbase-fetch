{
 "cells": [
  {
   "cell_type": "markdown",
   "id": "60579ed7",
   "metadata": {},
   "source": [
    "# Lowell Digisonde Reader\n",
    "This notebook is a tool to read and plot data from the Lowell Digisonde network: https://www.digisonde.com/"
   ]
  },
  {
   "cell_type": "code",
   "execution_count": 13,
   "id": "c0fb636b",
   "metadata": {},
   "outputs": [],
   "source": [
    "import urllib\n",
    "import pandas as pd\n",
    "import plotly.express as px"
   ]
  },
  {
   "cell_type": "markdown",
   "id": "da725abf",
   "metadata": {},
   "source": [
    "## Read Station List\n"
   ]
  },
  {
   "cell_type": "code",
   "execution_count": 11,
   "id": "63015037",
   "metadata": {},
   "outputs": [
    {
     "data": {
      "text/html": [
       "<div>\n",
       "<style scoped>\n",
       "    .dataframe tbody tr th:only-of-type {\n",
       "        vertical-align: middle;\n",
       "    }\n",
       "\n",
       "    .dataframe tbody tr th {\n",
       "        vertical-align: top;\n",
       "    }\n",
       "\n",
       "    .dataframe thead th {\n",
       "        text-align: right;\n",
       "    }\n",
       "</style>\n",
       "<table border=\"1\" class=\"dataframe\">\n",
       "  <thead>\n",
       "    <tr style=\"text-align: right;\">\n",
       "      <th></th>\n",
       "      <th>#</th>\n",
       "      <th>URSI</th>\n",
       "      <th>STATION NAME</th>\n",
       "      <th>LAT</th>\n",
       "      <th>LONG</th>\n",
       "    </tr>\n",
       "  </thead>\n",
       "  <tbody>\n",
       "    <tr>\n",
       "      <th>0</th>\n",
       "      <td>1</td>\n",
       "      <td>AH223</td>\n",
       "      <td>AHMEDABAD</td>\n",
       "      <td>23.00</td>\n",
       "      <td>72.50</td>\n",
       "    </tr>\n",
       "    <tr>\n",
       "      <th>1</th>\n",
       "      <td>2</td>\n",
       "      <td>AL945</td>\n",
       "      <td>ALPENA</td>\n",
       "      <td>45.07</td>\n",
       "      <td>276.44</td>\n",
       "    </tr>\n",
       "    <tr>\n",
       "      <th>2</th>\n",
       "      <td>3</td>\n",
       "      <td>AN438</td>\n",
       "      <td>ANYANG</td>\n",
       "      <td>37.39</td>\n",
       "      <td>126.95</td>\n",
       "    </tr>\n",
       "    <tr>\n",
       "      <th>3</th>\n",
       "      <td>4</td>\n",
       "      <td>AS00Q</td>\n",
       "      <td>ASCENSION ISLAND</td>\n",
       "      <td>-7.95</td>\n",
       "      <td>345.60</td>\n",
       "    </tr>\n",
       "    <tr>\n",
       "      <th>4</th>\n",
       "      <td>5</td>\n",
       "      <td>AT138</td>\n",
       "      <td>ATHENS</td>\n",
       "      <td>38.00</td>\n",
       "      <td>23.50</td>\n",
       "    </tr>\n",
       "    <tr>\n",
       "      <th>...</th>\n",
       "      <td>...</td>\n",
       "      <td>...</td>\n",
       "      <td>...</td>\n",
       "      <td>...</td>\n",
       "      <td>...</td>\n",
       "    </tr>\n",
       "    <tr>\n",
       "      <th>118</th>\n",
       "      <td>119</td>\n",
       "      <td>WU430</td>\n",
       "      <td>WUHAN</td>\n",
       "      <td>30.50</td>\n",
       "      <td>114.40</td>\n",
       "    </tr>\n",
       "    <tr>\n",
       "      <th>119</th>\n",
       "      <td>120</td>\n",
       "      <td>XI434</td>\n",
       "      <td>XINXIANG CHINA</td>\n",
       "      <td>35.30</td>\n",
       "      <td>113.92</td>\n",
       "    </tr>\n",
       "    <tr>\n",
       "      <th>120</th>\n",
       "      <td>121</td>\n",
       "      <td>YA462</td>\n",
       "      <td>YAKUTSK</td>\n",
       "      <td>62.00</td>\n",
       "      <td>129.60</td>\n",
       "    </tr>\n",
       "    <tr>\n",
       "      <th>121</th>\n",
       "      <td>122</td>\n",
       "      <td>ZH466</td>\n",
       "      <td>ZHIGANSK</td>\n",
       "      <td>66.80</td>\n",
       "      <td>123.40</td>\n",
       "    </tr>\n",
       "    <tr>\n",
       "      <th>122</th>\n",
       "      <td>123</td>\n",
       "      <td>ZS36R</td>\n",
       "      <td>ZHONG SHAN</td>\n",
       "      <td>-69.40</td>\n",
       "      <td>76.40</td>\n",
       "    </tr>\n",
       "  </tbody>\n",
       "</table>\n",
       "<p>123 rows × 5 columns</p>\n",
       "</div>"
      ],
      "text/plain": [
       "       #   URSI      STATION NAME    LAT    LONG\n",
       "0      1  AH223         AHMEDABAD  23.00   72.50\n",
       "1      2  AL945            ALPENA  45.07  276.44\n",
       "2      3  AN438            ANYANG  37.39  126.95\n",
       "3      4  AS00Q  ASCENSION ISLAND  -7.95  345.60\n",
       "4      5  AT138            ATHENS  38.00   23.50\n",
       "..   ...    ...               ...    ...     ...\n",
       "118  119  WU430             WUHAN  30.50  114.40\n",
       "119  120  XI434    XINXIANG CHINA  35.30  113.92\n",
       "120  121  YA462           YAKUTSK  62.00  129.60\n",
       "121  122  ZH466          ZHIGANSK  66.80  123.40\n",
       "122  123  ZS36R        ZHONG SHAN -69.40   76.40\n",
       "\n",
       "[123 rows x 5 columns]"
      ]
     },
     "execution_count": 11,
     "metadata": {},
     "output_type": "execute_result"
    }
   ],
   "source": [
    "stations = pd.read_csv('DIDBASE List.csv')\n",
    "stations"
   ]
  },
  {
   "cell_type": "markdown",
   "id": "4bd245f9",
   "metadata": {},
   "source": [
    "## Map stations"
   ]
  },
  {
   "cell_type": "code",
   "execution_count": 18,
   "id": "c779aede",
   "metadata": {},
   "outputs": [
    {
     "data": {
      "application/vnd.plotly.v1+json": {
       "config": {
        "plotlyServerURL": "https://plot.ly"
       },
       "data": [
        {
         "customdata": [
          [
           "AH223"
          ],
          [
           "AL945"
          ],
          [
           "AN438"
          ],
          [
           "AS00Q"
          ],
          [
           "AT138"
          ],
          [
           "AU930"
          ],
          [
           "BP440"
          ],
          [
           "BLJ03"
          ],
          [
           "BJJ32"
          ],
          [
           "BVJ03"
          ],
          [
           "BC840"
          ],
          [
           "BR52P"
          ],
          [
           "BV53Q"
          ],
          [
           "CXM9B"
          ],
          [
           "CAJ2M"
          ],
          [
           "CN53L"
          ],
          [
           "CGK21"
          ],
          [
           "CB53N"
          ],
          [
           "CH833"
          ],
          [
           "RL052"
          ],
          [
           "CS31K"
          ],
          [
           "CO764"
          ],
          [
           "CS839"
          ],
          [
           "DW41K"
          ],
          [
           "DB049"
          ],
          [
           "DS932"
          ],
          [
           "EA653"
          ],
          [
           "EG931"
          ],
          [
           "EI764"
          ],
          [
           "TR170"
          ],
          [
           "EA036"
          ],
          [
           "MO156"
          ],
          [
           "FF051"
          ],
          [
           "FZA0M"
          ],
          [
           "GA313"
          ],
          [
           "GA762"
          ],
          [
           "GM037"
          ],
          [
           "GSJ53"
          ],
          [
           "GR13L"
          ],
          [
           "GU513"
          ],
          [
           "HA419"
          ],
          [
           "HAJ43"
          ],
          [
           "HE13N"
          ],
          [
           "HO54K"
          ],
          [
           "IC437"
          ],
          [
           "AC843"
          ],
          [
           "IF843"
          ],
          [
           "IL008"
          ],
          [
           "IR352"
          ],
          [
           "JB57N"
          ],
          [
           "JJ433"
          ],
          [
           "JI91J"
          ],
          [
           "JR055"
          ],
          [
           "KL154"
          ],
          [
           "KI939"
          ],
          [
           "KB547"
          ],
          [
           "KS759"
          ],
          [
           "KR835"
          ],
          [
           "KI167"
          ],
          [
           "TO535"
          ],
          [
           "KJ609"
          ],
          [
           "LA42Q"
          ],
          [
           "LM42B"
          ],
          [
           "LV12P"
          ],
          [
           "LL721"
          ],
          [
           "MU12K"
          ],
          [
           "MA560"
          ],
          [
           "ME929"
          ],
          [
           "MHJ45"
          ],
          [
           "MH453"
          ],
          [
           "MA155"
          ],
          [
           "MO155"
          ],
          [
           "MU230"
          ],
          [
           "MU834"
          ],
          [
           "NQJ61"
          ],
          [
           "NI135"
          ],
          [
           "ND61R"
          ],
          [
           "NDA81"
          ],
          [
           "NI63_"
          ],
          [
           "NO369"
          ],
          [
           "NV355"
          ],
          [
           "OK426"
          ],
          [
           "OL246"
          ],
          [
           "SN437"
          ],
          [
           "PE43K"
          ],
          [
           "PK553"
          ],
          [
           "PF765"
          ],
          [
           "PSJ5J"
          ],
          [
           "PQ052"
          ],
          [
           "PA836"
          ],
          [
           "SJJ18"
          ],
          [
           "PRJ18"
          ],
          [
           "RM041"
          ],
          [
           "RO041"
          ],
          [
           "EB040"
          ],
          [
           "RV149"
          ],
          [
           "SH266"
          ],
          [
           "VT139"
          ],
          [
           "SMK29"
          ],
          [
           "SA418"
          ],
          [
           "SAA0K"
          ],
          [
           "SMJ67"
          ],
          [
           "SO148"
          ],
          [
           "SH42_"
          ],
          [
           "SQ832"
          ],
          [
           "LD160"
          ],
          [
           "THJ76"
          ],
          [
           "THJ77"
          ],
          [
           "TV51R"
          ],
          [
           "TM308"
          ],
          [
           "TR169"
          ],
          [
           "TUJ2O"
          ],
          [
           "TNJ20"
          ],
          [
           "TZ362"
          ],
          [
           "WA619"
          ],
          [
           "WP937"
          ],
          [
           "WI937"
          ],
          [
           "MZ152"
          ],
          [
           "WU430"
          ],
          [
           "XI434"
          ],
          [
           "YA462"
          ],
          [
           "ZH466"
          ],
          [
           "ZS36R"
          ]
         ],
         "geo": "geo",
         "hovertemplate": "<b>%{hovertext}</b><br><br>LAT=%{lat}<br>LONG=%{lon}<br>URSI=%{customdata[0]}<extra></extra>",
         "hovertext": [
          "AHMEDABAD",
          "ALPENA",
          "ANYANG",
          "ASCENSION ISLAND",
          "ATHENS",
          "AUSTIN",
          "BEIJING",
          "BELEM",
          "BERMUDA",
          "BOA VISTA",
          "BOULDER",
          "BRISBANE",
          "BUNDOORA",
          "CACHIMBO",
          "CACHOEIRA PAULISTA",
          "CAMDEN",
          "CAMPO GRANDE",
          "CANBERRA",
          "CHERRY",
          "CHILTON",
          "COCOS_ISLAND",
          "COLLEGE AK",
          "COLORADO_SPRINGS",
          "DARWIN",
          "DOURBES",
          "DYESS AFB",
          "EARECKSON",
          "EGLIN AFB",
          "EIELSON",
          "EISCAT TROMSO",
          "EL ARENOSILLO",
          "ELEKTROUGLI",
          "FAIRFORD",
          "FORTALEZA",
          "GADANKI",
          "GAKONA",
          "GIBILMANNA",
          "GOOSE BAY",
          "GRAHAMSTOWN",
          "GUAM",
          "HAINAN",
          "HANSCOM AFB",
          "HERMANUS",
          "HOBART",
          "I-CHEON",
          "IDAHO NATIONAL LAB",
          "IDAHO NATIONAL LAB",
          "ILORIN",
          "IRKUTSK",
          "JANG BOGO",
          "JEJU",
          "JICAMARCA",
          "JULIUSRUH",
          "KALININGRAD",
          "KENT IS",
          "KHABAROVSK",
          "KING SALMON",
          "KIRTLAND",
          "KIRUNA SWEDEN",
          "KOKUBUNJI",
          "KWAJALEIN",
          "LAVERTON",
          "LEARMONTH",
          "LOUISVALE",
          "LUALUALEI",
          "MADIMBO",
          "MAGADAN",
          "MELROSE",
          "MILLSTONE HILL",
          "MOHE",
          "MOSCOW",
          "MOSCOW",
          "MULTAN",
          "MUNYO",
          "NARSSARSSUAQ",
          "NICOSIA",
          "NIUE",
          "NORD GREENLAND",
          "NORFOLK",
          "NORILSK",
          "NOVOSIBIRSK",
          "OKINAWA",
          "OLSZTYN",
          "OSAN AB",
          "PERTH",
          "PETROPAVLOVSK",
          "POKER FLAT",
          "PORT STANLEY",
          "PRUHONICE",
          "PT ARGUELLO",
          "PUERTO RICO",
          "RAMEY",
          "ROME",
          "ROME",
          "ROQUETES",
          "ROSTOV",
          "SALEKHARD",
          "SAN VITO",
          "SANTA MARIA",
          "SANYA",
          "SAOLUIS",
          "SONDRESTROM",
          "SOPRON",
          "SOUTH HEDLAND",
          "SQUIRT",
          "ST. PETERSBURG",
          "THULE",
          "THULE/QAANAAQ",
          "TOWNSVILLE",
          "TRIVANDRUM",
          "TROMSO",
          "TUCUMAN",
          "TUCUMAN AIS-INGV",
          "TUNGUSKA",
          "WAKE",
          "WALLOPS IS",
          "WALLOPS ISLAND",
          "WARSAW",
          "WUHAN",
          "XINXIANG CHINA",
          "YAKUTSK",
          "ZHIGANSK",
          "ZHONG SHAN"
         ],
         "lat": [
          23,
          45.07,
          37.39,
          -7.95,
          38,
          30.4,
          40.3,
          1.43,
          32.4,
          2.8,
          40,
          -27.06,
          -37.7,
          -9.5,
          -22.7,
          -34.05,
          -20.5,
          -35.32,
          32.9,
          51.5,
          -12.18,
          64.9,
          39,
          -12.45,
          50.1,
          32.4,
          52.73,
          30.5,
          64.66,
          69.58,
          37.1,
          55.76,
          51.7,
          -3.9,
          13.46,
          62.38,
          37.9,
          53.3,
          -33.3,
          13.62,
          19.4,
          42.5,
          -34.42,
          -42.92,
          37.14,
          43.81,
          43.81,
          8.5,
          52.4,
          -74.62,
          33.43,
          -12,
          54.6,
          54.36,
          38.96,
          47.52,
          58.4,
          35,
          67.86,
          35.7,
          9,
          -28.3,
          -21.8,
          -28.5,
          21.43,
          -22.39,
          60.09,
          29.71,
          42.6,
          52,
          55.49,
          55.47,
          33.03,
          33.56,
          61.2,
          35.03,
          -19.07,
          81.4,
          -29.03,
          69.2,
          55.02,
          26.68,
          53.8,
          37.1,
          -32,
          52.97,
          65.13,
          -51.6,
          50,
          34.8,
          18.11,
          18.5,
          41.8,
          41.9,
          40.8,
          47.24,
          66.51,
          40.6,
          -29.73,
          18.34,
          -2.6,
          66.98,
          47.63,
          -20.4,
          32.42,
          60,
          76.54,
          77.5,
          -19.63,
          8.54,
          69.6,
          -26.9,
          -26.9,
          61.58,
          19.29,
          37.9,
          37.94,
          52.2,
          30.5,
          35.3,
          62,
          66.8,
          -69.4
         ],
         "legendgroup": "",
         "lon": [
          72.5,
          276.44,
          126.95,
          345.6,
          23.5,
          262.3,
          116.2,
          311.56,
          295.3,
          299.3,
          254.7,
          153.06,
          145.05,
          305.2,
          315,
          150.67,
          305,
          149,
          253.59,
          359.4,
          96.83,
          212,
          255.12,
          130.95,
          4.6,
          260.2,
          185.92,
          273.5,
          212.93,
          19.22,
          353.3,
          38.28,
          358.5,
          321.6,
          79.17,
          215,
          14,
          299.7,
          26.5,
          144.86,
          109,
          288.7,
          19.22,
          147.32,
          127.54,
          247.32,
          247.32,
          4.5,
          104.3,
          164.24,
          126.3,
          283.2,
          13.4,
          20.12,
          283.72,
          134.77,
          203.6,
          253.47,
          20.43,
          139.5,
          167.2,
          122.8,
          114.1,
          21.2,
          201.85,
          30.88,
          150.93,
          278,
          288.5,
          122.52,
          37.29,
          37.3,
          72.01,
          253.35,
          314.6,
          33.16,
          190.07,
          342.5,
          167.97,
          88,
          82.21,
          128.15,
          20.5,
          127,
          116.13,
          158.24,
          212.55,
          302.1,
          14.6,
          239.5,
          293.75,
          292.9,
          12.5,
          12.5,
          0.5,
          39.63,
          66.66,
          17.8,
          306.29,
          109.42,
          315.8,
          309.06,
          16.72,
          118.5,
          253.71,
          30.7,
          291.56,
          290.8,
          146.85,
          76.87,
          19.2,
          294.6,
          294.6,
          90.02,
          166.65,
          284.5,
          284.42,
          21.1,
          114.4,
          113.92,
          129.6,
          123.4,
          76.4
         ],
         "marker": {
          "color": "#636efa",
          "symbol": "circle"
         },
         "mode": "markers",
         "name": "",
         "showlegend": false,
         "type": "scattergeo"
        }
       ],
       "layout": {
        "geo": {
         "center": {},
         "domain": {
          "x": [
           0,
           1
          ],
          "y": [
           0,
           1
          ]
         }
        },
        "legend": {
         "tracegroupgap": 0
        },
        "margin": {
         "t": 60
        },
        "template": {
         "data": {
          "bar": [
           {
            "error_x": {
             "color": "#2a3f5f"
            },
            "error_y": {
             "color": "#2a3f5f"
            },
            "marker": {
             "line": {
              "color": "#E5ECF6",
              "width": 0.5
             }
            },
            "type": "bar"
           }
          ],
          "barpolar": [
           {
            "marker": {
             "line": {
              "color": "#E5ECF6",
              "width": 0.5
             }
            },
            "type": "barpolar"
           }
          ],
          "carpet": [
           {
            "aaxis": {
             "endlinecolor": "#2a3f5f",
             "gridcolor": "white",
             "linecolor": "white",
             "minorgridcolor": "white",
             "startlinecolor": "#2a3f5f"
            },
            "baxis": {
             "endlinecolor": "#2a3f5f",
             "gridcolor": "white",
             "linecolor": "white",
             "minorgridcolor": "white",
             "startlinecolor": "#2a3f5f"
            },
            "type": "carpet"
           }
          ],
          "choropleth": [
           {
            "colorbar": {
             "outlinewidth": 0,
             "ticks": ""
            },
            "type": "choropleth"
           }
          ],
          "contour": [
           {
            "colorbar": {
             "outlinewidth": 0,
             "ticks": ""
            },
            "colorscale": [
             [
              0,
              "#0d0887"
             ],
             [
              0.1111111111111111,
              "#46039f"
             ],
             [
              0.2222222222222222,
              "#7201a8"
             ],
             [
              0.3333333333333333,
              "#9c179e"
             ],
             [
              0.4444444444444444,
              "#bd3786"
             ],
             [
              0.5555555555555556,
              "#d8576b"
             ],
             [
              0.6666666666666666,
              "#ed7953"
             ],
             [
              0.7777777777777778,
              "#fb9f3a"
             ],
             [
              0.8888888888888888,
              "#fdca26"
             ],
             [
              1,
              "#f0f921"
             ]
            ],
            "type": "contour"
           }
          ],
          "contourcarpet": [
           {
            "colorbar": {
             "outlinewidth": 0,
             "ticks": ""
            },
            "type": "contourcarpet"
           }
          ],
          "heatmap": [
           {
            "colorbar": {
             "outlinewidth": 0,
             "ticks": ""
            },
            "colorscale": [
             [
              0,
              "#0d0887"
             ],
             [
              0.1111111111111111,
              "#46039f"
             ],
             [
              0.2222222222222222,
              "#7201a8"
             ],
             [
              0.3333333333333333,
              "#9c179e"
             ],
             [
              0.4444444444444444,
              "#bd3786"
             ],
             [
              0.5555555555555556,
              "#d8576b"
             ],
             [
              0.6666666666666666,
              "#ed7953"
             ],
             [
              0.7777777777777778,
              "#fb9f3a"
             ],
             [
              0.8888888888888888,
              "#fdca26"
             ],
             [
              1,
              "#f0f921"
             ]
            ],
            "type": "heatmap"
           }
          ],
          "heatmapgl": [
           {
            "colorbar": {
             "outlinewidth": 0,
             "ticks": ""
            },
            "colorscale": [
             [
              0,
              "#0d0887"
             ],
             [
              0.1111111111111111,
              "#46039f"
             ],
             [
              0.2222222222222222,
              "#7201a8"
             ],
             [
              0.3333333333333333,
              "#9c179e"
             ],
             [
              0.4444444444444444,
              "#bd3786"
             ],
             [
              0.5555555555555556,
              "#d8576b"
             ],
             [
              0.6666666666666666,
              "#ed7953"
             ],
             [
              0.7777777777777778,
              "#fb9f3a"
             ],
             [
              0.8888888888888888,
              "#fdca26"
             ],
             [
              1,
              "#f0f921"
             ]
            ],
            "type": "heatmapgl"
           }
          ],
          "histogram": [
           {
            "marker": {
             "colorbar": {
              "outlinewidth": 0,
              "ticks": ""
             }
            },
            "type": "histogram"
           }
          ],
          "histogram2d": [
           {
            "colorbar": {
             "outlinewidth": 0,
             "ticks": ""
            },
            "colorscale": [
             [
              0,
              "#0d0887"
             ],
             [
              0.1111111111111111,
              "#46039f"
             ],
             [
              0.2222222222222222,
              "#7201a8"
             ],
             [
              0.3333333333333333,
              "#9c179e"
             ],
             [
              0.4444444444444444,
              "#bd3786"
             ],
             [
              0.5555555555555556,
              "#d8576b"
             ],
             [
              0.6666666666666666,
              "#ed7953"
             ],
             [
              0.7777777777777778,
              "#fb9f3a"
             ],
             [
              0.8888888888888888,
              "#fdca26"
             ],
             [
              1,
              "#f0f921"
             ]
            ],
            "type": "histogram2d"
           }
          ],
          "histogram2dcontour": [
           {
            "colorbar": {
             "outlinewidth": 0,
             "ticks": ""
            },
            "colorscale": [
             [
              0,
              "#0d0887"
             ],
             [
              0.1111111111111111,
              "#46039f"
             ],
             [
              0.2222222222222222,
              "#7201a8"
             ],
             [
              0.3333333333333333,
              "#9c179e"
             ],
             [
              0.4444444444444444,
              "#bd3786"
             ],
             [
              0.5555555555555556,
              "#d8576b"
             ],
             [
              0.6666666666666666,
              "#ed7953"
             ],
             [
              0.7777777777777778,
              "#fb9f3a"
             ],
             [
              0.8888888888888888,
              "#fdca26"
             ],
             [
              1,
              "#f0f921"
             ]
            ],
            "type": "histogram2dcontour"
           }
          ],
          "mesh3d": [
           {
            "colorbar": {
             "outlinewidth": 0,
             "ticks": ""
            },
            "type": "mesh3d"
           }
          ],
          "parcoords": [
           {
            "line": {
             "colorbar": {
              "outlinewidth": 0,
              "ticks": ""
             }
            },
            "type": "parcoords"
           }
          ],
          "pie": [
           {
            "automargin": true,
            "type": "pie"
           }
          ],
          "scatter": [
           {
            "marker": {
             "colorbar": {
              "outlinewidth": 0,
              "ticks": ""
             }
            },
            "type": "scatter"
           }
          ],
          "scatter3d": [
           {
            "line": {
             "colorbar": {
              "outlinewidth": 0,
              "ticks": ""
             }
            },
            "marker": {
             "colorbar": {
              "outlinewidth": 0,
              "ticks": ""
             }
            },
            "type": "scatter3d"
           }
          ],
          "scattercarpet": [
           {
            "marker": {
             "colorbar": {
              "outlinewidth": 0,
              "ticks": ""
             }
            },
            "type": "scattercarpet"
           }
          ],
          "scattergeo": [
           {
            "marker": {
             "colorbar": {
              "outlinewidth": 0,
              "ticks": ""
             }
            },
            "type": "scattergeo"
           }
          ],
          "scattergl": [
           {
            "marker": {
             "colorbar": {
              "outlinewidth": 0,
              "ticks": ""
             }
            },
            "type": "scattergl"
           }
          ],
          "scattermapbox": [
           {
            "marker": {
             "colorbar": {
              "outlinewidth": 0,
              "ticks": ""
             }
            },
            "type": "scattermapbox"
           }
          ],
          "scatterpolar": [
           {
            "marker": {
             "colorbar": {
              "outlinewidth": 0,
              "ticks": ""
             }
            },
            "type": "scatterpolar"
           }
          ],
          "scatterpolargl": [
           {
            "marker": {
             "colorbar": {
              "outlinewidth": 0,
              "ticks": ""
             }
            },
            "type": "scatterpolargl"
           }
          ],
          "scatterternary": [
           {
            "marker": {
             "colorbar": {
              "outlinewidth": 0,
              "ticks": ""
             }
            },
            "type": "scatterternary"
           }
          ],
          "surface": [
           {
            "colorbar": {
             "outlinewidth": 0,
             "ticks": ""
            },
            "colorscale": [
             [
              0,
              "#0d0887"
             ],
             [
              0.1111111111111111,
              "#46039f"
             ],
             [
              0.2222222222222222,
              "#7201a8"
             ],
             [
              0.3333333333333333,
              "#9c179e"
             ],
             [
              0.4444444444444444,
              "#bd3786"
             ],
             [
              0.5555555555555556,
              "#d8576b"
             ],
             [
              0.6666666666666666,
              "#ed7953"
             ],
             [
              0.7777777777777778,
              "#fb9f3a"
             ],
             [
              0.8888888888888888,
              "#fdca26"
             ],
             [
              1,
              "#f0f921"
             ]
            ],
            "type": "surface"
           }
          ],
          "table": [
           {
            "cells": {
             "fill": {
              "color": "#EBF0F8"
             },
             "line": {
              "color": "white"
             }
            },
            "header": {
             "fill": {
              "color": "#C8D4E3"
             },
             "line": {
              "color": "white"
             }
            },
            "type": "table"
           }
          ]
         },
         "layout": {
          "annotationdefaults": {
           "arrowcolor": "#2a3f5f",
           "arrowhead": 0,
           "arrowwidth": 1
          },
          "coloraxis": {
           "colorbar": {
            "outlinewidth": 0,
            "ticks": ""
           }
          },
          "colorscale": {
           "diverging": [
            [
             0,
             "#8e0152"
            ],
            [
             0.1,
             "#c51b7d"
            ],
            [
             0.2,
             "#de77ae"
            ],
            [
             0.3,
             "#f1b6da"
            ],
            [
             0.4,
             "#fde0ef"
            ],
            [
             0.5,
             "#f7f7f7"
            ],
            [
             0.6,
             "#e6f5d0"
            ],
            [
             0.7,
             "#b8e186"
            ],
            [
             0.8,
             "#7fbc41"
            ],
            [
             0.9,
             "#4d9221"
            ],
            [
             1,
             "#276419"
            ]
           ],
           "sequential": [
            [
             0,
             "#0d0887"
            ],
            [
             0.1111111111111111,
             "#46039f"
            ],
            [
             0.2222222222222222,
             "#7201a8"
            ],
            [
             0.3333333333333333,
             "#9c179e"
            ],
            [
             0.4444444444444444,
             "#bd3786"
            ],
            [
             0.5555555555555556,
             "#d8576b"
            ],
            [
             0.6666666666666666,
             "#ed7953"
            ],
            [
             0.7777777777777778,
             "#fb9f3a"
            ],
            [
             0.8888888888888888,
             "#fdca26"
            ],
            [
             1,
             "#f0f921"
            ]
           ],
           "sequentialminus": [
            [
             0,
             "#0d0887"
            ],
            [
             0.1111111111111111,
             "#46039f"
            ],
            [
             0.2222222222222222,
             "#7201a8"
            ],
            [
             0.3333333333333333,
             "#9c179e"
            ],
            [
             0.4444444444444444,
             "#bd3786"
            ],
            [
             0.5555555555555556,
             "#d8576b"
            ],
            [
             0.6666666666666666,
             "#ed7953"
            ],
            [
             0.7777777777777778,
             "#fb9f3a"
            ],
            [
             0.8888888888888888,
             "#fdca26"
            ],
            [
             1,
             "#f0f921"
            ]
           ]
          },
          "colorway": [
           "#636efa",
           "#EF553B",
           "#00cc96",
           "#ab63fa",
           "#FFA15A",
           "#19d3f3",
           "#FF6692",
           "#B6E880",
           "#FF97FF",
           "#FECB52"
          ],
          "font": {
           "color": "#2a3f5f"
          },
          "geo": {
           "bgcolor": "white",
           "lakecolor": "white",
           "landcolor": "#E5ECF6",
           "showlakes": true,
           "showland": true,
           "subunitcolor": "white"
          },
          "hoverlabel": {
           "align": "left"
          },
          "hovermode": "closest",
          "mapbox": {
           "style": "light"
          },
          "paper_bgcolor": "white",
          "plot_bgcolor": "#E5ECF6",
          "polar": {
           "angularaxis": {
            "gridcolor": "white",
            "linecolor": "white",
            "ticks": ""
           },
           "bgcolor": "#E5ECF6",
           "radialaxis": {
            "gridcolor": "white",
            "linecolor": "white",
            "ticks": ""
           }
          },
          "scene": {
           "xaxis": {
            "backgroundcolor": "#E5ECF6",
            "gridcolor": "white",
            "gridwidth": 2,
            "linecolor": "white",
            "showbackground": true,
            "ticks": "",
            "zerolinecolor": "white"
           },
           "yaxis": {
            "backgroundcolor": "#E5ECF6",
            "gridcolor": "white",
            "gridwidth": 2,
            "linecolor": "white",
            "showbackground": true,
            "ticks": "",
            "zerolinecolor": "white"
           },
           "zaxis": {
            "backgroundcolor": "#E5ECF6",
            "gridcolor": "white",
            "gridwidth": 2,
            "linecolor": "white",
            "showbackground": true,
            "ticks": "",
            "zerolinecolor": "white"
           }
          },
          "shapedefaults": {
           "line": {
            "color": "#2a3f5f"
           }
          },
          "ternary": {
           "aaxis": {
            "gridcolor": "white",
            "linecolor": "white",
            "ticks": ""
           },
           "baxis": {
            "gridcolor": "white",
            "linecolor": "white",
            "ticks": ""
           },
           "bgcolor": "#E5ECF6",
           "caxis": {
            "gridcolor": "white",
            "linecolor": "white",
            "ticks": ""
           }
          },
          "title": {
           "x": 0.05
          },
          "xaxis": {
           "automargin": true,
           "gridcolor": "white",
           "linecolor": "white",
           "ticks": "",
           "title": {
            "standoff": 15
           },
           "zerolinecolor": "white",
           "zerolinewidth": 2
          },
          "yaxis": {
           "automargin": true,
           "gridcolor": "white",
           "linecolor": "white",
           "ticks": "",
           "title": {
            "standoff": 15
           },
           "zerolinecolor": "white",
           "zerolinewidth": 2
          }
         }
        },
        "title": {
         "text": "Stations"
        }
       }
      },
      "text/html": [
       "<div>                            <div id=\"b95f4ae9-a7ef-4803-a7e2-0ceb6af63264\" class=\"plotly-graph-div\" style=\"height:525px; width:100%;\"></div>            <script type=\"text/javascript\">                require([\"plotly\"], function(Plotly) {                    window.PLOTLYENV=window.PLOTLYENV || {};                                    if (document.getElementById(\"b95f4ae9-a7ef-4803-a7e2-0ceb6af63264\")) {                    Plotly.newPlot(                        \"b95f4ae9-a7ef-4803-a7e2-0ceb6af63264\",                        [{\"customdata\": [[\"AH223\"], [\"AL945\"], [\"AN438\"], [\"AS00Q\"], [\"AT138\"], [\"AU930\"], [\"BP440\"], [\"BLJ03\"], [\"BJJ32\"], [\"BVJ03\"], [\"BC840\"], [\"BR52P\"], [\"BV53Q\"], [\"CXM9B\"], [\"CAJ2M\"], [\"CN53L\"], [\"CGK21\"], [\"CB53N\"], [\"CH833\"], [\"RL052\"], [\"CS31K\"], [\"CO764\"], [\"CS839\"], [\"DW41K\"], [\"DB049\"], [\"DS932\"], [\"EA653\"], [\"EG931\"], [\"EI764\"], [\"TR170\"], [\"EA036\"], [\"MO156\"], [\"FF051\"], [\"FZA0M\"], [\"GA313\"], [\"GA762\"], [\"GM037\"], [\"GSJ53\"], [\"GR13L\"], [\"GU513\"], [\"HA419\"], [\"HAJ43\"], [\"HE13N\"], [\"HO54K\"], [\"IC437\"], [\"AC843\"], [\"IF843\"], [\"IL008\"], [\"IR352\"], [\"JB57N\"], [\"JJ433\"], [\"JI91J\"], [\"JR055\"], [\"KL154\"], [\"KI939\"], [\"KB547\"], [\"KS759\"], [\"KR835\"], [\"KI167\"], [\"TO535\"], [\"KJ609\"], [\"LA42Q\"], [\"LM42B\"], [\"LV12P\"], [\"LL721\"], [\"MU12K\"], [\"MA560\"], [\"ME929\"], [\"MHJ45\"], [\"MH453\"], [\"MA155\"], [\"MO155\"], [\"MU230\"], [\"MU834\"], [\"NQJ61\"], [\"NI135\"], [\"ND61R\"], [\"NDA81\"], [\"NI63_\"], [\"NO369\"], [\"NV355\"], [\"OK426\"], [\"OL246\"], [\"SN437\"], [\"PE43K\"], [\"PK553\"], [\"PF765\"], [\"PSJ5J\"], [\"PQ052\"], [\"PA836\"], [\"SJJ18\"], [\"PRJ18\"], [\"RM041\"], [\"RO041\"], [\"EB040\"], [\"RV149\"], [\"SH266\"], [\"VT139\"], [\"SMK29\"], [\"SA418\"], [\"SAA0K\"], [\"SMJ67\"], [\"SO148\"], [\"SH42_\"], [\"SQ832\"], [\"LD160\"], [\"THJ76\"], [\"THJ77\"], [\"TV51R\"], [\"TM308\"], [\"TR169\"], [\"TUJ2O\"], [\"TNJ20\"], [\"TZ362\"], [\"WA619\"], [\"WP937\"], [\"WI937\"], [\"MZ152\"], [\"WU430\"], [\"XI434\"], [\"YA462\"], [\"ZH466\"], [\"ZS36R\"]], \"geo\": \"geo\", \"hovertemplate\": \"<b>%{hovertext}</b><br><br>LAT=%{lat}<br>LONG=%{lon}<br>URSI=%{customdata[0]}<extra></extra>\", \"hovertext\": [\"AHMEDABAD\", \"ALPENA\", \"ANYANG\", \"ASCENSION ISLAND\", \"ATHENS\", \"AUSTIN\", \"BEIJING\", \"BELEM\", \"BERMUDA\", \"BOA VISTA\", \"BOULDER\", \"BRISBANE\", \"BUNDOORA\", \"CACHIMBO\", \"CACHOEIRA PAULISTA\", \"CAMDEN\", \"CAMPO GRANDE\", \"CANBERRA\", \"CHERRY\", \"CHILTON\", \"COCOS_ISLAND\", \"COLLEGE AK\", \"COLORADO_SPRINGS\", \"DARWIN\", \"DOURBES\", \"DYESS AFB\", \"EARECKSON\", \"EGLIN AFB\", \"EIELSON\", \"EISCAT TROMSO\", \"EL ARENOSILLO\", \"ELEKTROUGLI\", \"FAIRFORD\", \"FORTALEZA\", \"GADANKI\", \"GAKONA\", \"GIBILMANNA\", \"GOOSE BAY\", \"GRAHAMSTOWN\", \"GUAM\", \"HAINAN\", \"HANSCOM AFB\", \"HERMANUS\", \"HOBART\", \"I-CHEON\", \"IDAHO NATIONAL LAB\", \"IDAHO NATIONAL LAB\", \"ILORIN\", \"IRKUTSK\", \"JANG BOGO\", \"JEJU\", \"JICAMARCA\", \"JULIUSRUH\", \"KALININGRAD\", \"KENT IS\", \"KHABAROVSK\", \"KING SALMON\", \"KIRTLAND\", \"KIRUNA SWEDEN\", \"KOKUBUNJI\", \"KWAJALEIN\", \"LAVERTON\", \"LEARMONTH\", \"LOUISVALE\", \"LUALUALEI\", \"MADIMBO\", \"MAGADAN\", \"MELROSE\", \"MILLSTONE HILL\", \"MOHE\", \"MOSCOW\", \"MOSCOW\", \"MULTAN\", \"MUNYO\", \"NARSSARSSUAQ\", \"NICOSIA\", \"NIUE\", \"NORD GREENLAND\", \"NORFOLK\", \"NORILSK\", \"NOVOSIBIRSK\", \"OKINAWA\", \"OLSZTYN\", \"OSAN AB\", \"PERTH\", \"PETROPAVLOVSK\", \"POKER FLAT\", \"PORT STANLEY\", \"PRUHONICE\", \"PT ARGUELLO\", \"PUERTO RICO\", \"RAMEY\", \"ROME\", \"ROME\", \"ROQUETES\", \"ROSTOV\", \"SALEKHARD\", \"SAN VITO\", \"SANTA MARIA\", \"SANYA\", \"SAOLUIS\", \"SONDRESTROM\", \"SOPRON\", \"SOUTH HEDLAND\", \"SQUIRT\", \"ST. PETERSBURG\", \"THULE\", \"THULE/QAANAAQ\", \"TOWNSVILLE\", \"TRIVANDRUM\", \"TROMSO\", \"TUCUMAN\", \"TUCUMAN AIS-INGV\", \"TUNGUSKA\", \"WAKE\", \"WALLOPS IS\", \"WALLOPS ISLAND\", \"WARSAW\", \"WUHAN\", \"XINXIANG CHINA\", \"YAKUTSK\", \"ZHIGANSK\", \"ZHONG SHAN\"], \"lat\": [23.0, 45.07, 37.39, -7.95, 38.0, 30.4, 40.3, 1.43, 32.4, 2.8, 40.0, -27.06, -37.7, -9.5, -22.7, -34.05, -20.5, -35.32, 32.9, 51.5, -12.18, 64.9, 39.0, -12.45, 50.1, 32.4, 52.73, 30.5, 64.66, 69.58, 37.1, 55.76, 51.7, -3.9, 13.46, 62.38, 37.9, 53.3, -33.3, 13.62, 19.4, 42.5, -34.42, -42.92, 37.14, 43.81, 43.81, 8.5, 52.4, -74.62, 33.43, -12.0, 54.6, 54.36, 38.96, 47.52, 58.4, 35.0, 67.86, 35.7, 9.0, -28.3, -21.8, -28.5, 21.43, -22.39, 60.09, 29.71, 42.6, 52.0, 55.49, 55.47, 33.03, 33.56, 61.2, 35.03, -19.07, 81.4, -29.03, 69.2, 55.02, 26.68, 53.8, 37.1, -32.0, 52.97, 65.13, -51.6, 50.0, 34.8, 18.11, 18.5, 41.8, 41.9, 40.8, 47.24, 66.51, 40.6, -29.73, 18.34, -2.6, 66.98, 47.63, -20.4, 32.42, 60.0, 76.54, 77.5, -19.63, 8.54, 69.6, -26.9, -26.9, 61.58, 19.29, 37.9, 37.94, 52.2, 30.5, 35.3, 62.0, 66.8, -69.4], \"legendgroup\": \"\", \"lon\": [72.5, 276.44, 126.95, 345.6, 23.5, 262.3, 116.2, 311.56, 295.3, 299.3, 254.7, 153.06, 145.05, 305.2, 315.0, 150.67, 305.0, 149.0, 253.59, 359.4, 96.83, 212.0, 255.12, 130.95, 4.6, 260.2, 185.92, 273.5, 212.93, 19.22, 353.3, 38.28, 358.5, 321.6, 79.17, 215.0, 14.0, 299.7, 26.5, 144.86, 109.0, 288.7, 19.22, 147.32, 127.54, 247.32, 247.32, 4.5, 104.3, 164.24, 126.3, 283.2, 13.4, 20.12, 283.72, 134.77, 203.6, 253.47, 20.43, 139.5, 167.2, 122.8, 114.1, 21.2, 201.85, 30.88, 150.93, 278.0, 288.5, 122.52, 37.29, 37.3, 72.01, 253.35, 314.6, 33.16, 190.07, 342.5, 167.97, 88.0, 82.21, 128.15, 20.5, 127.0, 116.13, 158.24, 212.55, 302.1, 14.6, 239.5, 293.75, 292.9, 12.5, 12.5, 0.5, 39.63, 66.66, 17.8, 306.29, 109.42, 315.8, 309.06, 16.72, 118.5, 253.71, 30.7, 291.56, 290.8, 146.85, 76.87, 19.2, 294.6, 294.6, 90.02, 166.65, 284.5, 284.42, 21.1, 114.4, 113.92, 129.6, 123.4, 76.4], \"marker\": {\"color\": \"#636efa\", \"symbol\": \"circle\"}, \"mode\": \"markers\", \"name\": \"\", \"showlegend\": false, \"type\": \"scattergeo\"}],                        {\"geo\": {\"center\": {}, \"domain\": {\"x\": [0.0, 1.0], \"y\": [0.0, 1.0]}}, \"legend\": {\"tracegroupgap\": 0}, \"margin\": {\"t\": 60}, \"template\": {\"data\": {\"bar\": [{\"error_x\": {\"color\": \"#2a3f5f\"}, \"error_y\": {\"color\": \"#2a3f5f\"}, \"marker\": {\"line\": {\"color\": \"#E5ECF6\", \"width\": 0.5}}, \"type\": \"bar\"}], \"barpolar\": [{\"marker\": {\"line\": {\"color\": \"#E5ECF6\", \"width\": 0.5}}, \"type\": \"barpolar\"}], \"carpet\": [{\"aaxis\": {\"endlinecolor\": \"#2a3f5f\", \"gridcolor\": \"white\", \"linecolor\": \"white\", \"minorgridcolor\": \"white\", \"startlinecolor\": \"#2a3f5f\"}, \"baxis\": {\"endlinecolor\": \"#2a3f5f\", \"gridcolor\": \"white\", \"linecolor\": \"white\", \"minorgridcolor\": \"white\", \"startlinecolor\": \"#2a3f5f\"}, \"type\": \"carpet\"}], \"choropleth\": [{\"colorbar\": {\"outlinewidth\": 0, \"ticks\": \"\"}, \"type\": \"choropleth\"}], \"contour\": [{\"colorbar\": {\"outlinewidth\": 0, \"ticks\": \"\"}, \"colorscale\": [[0.0, \"#0d0887\"], [0.1111111111111111, \"#46039f\"], [0.2222222222222222, \"#7201a8\"], [0.3333333333333333, \"#9c179e\"], [0.4444444444444444, \"#bd3786\"], [0.5555555555555556, \"#d8576b\"], [0.6666666666666666, \"#ed7953\"], [0.7777777777777778, \"#fb9f3a\"], [0.8888888888888888, \"#fdca26\"], [1.0, \"#f0f921\"]], \"type\": \"contour\"}], \"contourcarpet\": [{\"colorbar\": {\"outlinewidth\": 0, \"ticks\": \"\"}, \"type\": \"contourcarpet\"}], \"heatmap\": [{\"colorbar\": {\"outlinewidth\": 0, \"ticks\": \"\"}, \"colorscale\": [[0.0, \"#0d0887\"], [0.1111111111111111, \"#46039f\"], [0.2222222222222222, \"#7201a8\"], [0.3333333333333333, \"#9c179e\"], [0.4444444444444444, \"#bd3786\"], [0.5555555555555556, \"#d8576b\"], [0.6666666666666666, \"#ed7953\"], [0.7777777777777778, \"#fb9f3a\"], [0.8888888888888888, \"#fdca26\"], [1.0, \"#f0f921\"]], \"type\": \"heatmap\"}], \"heatmapgl\": [{\"colorbar\": {\"outlinewidth\": 0, \"ticks\": \"\"}, \"colorscale\": [[0.0, \"#0d0887\"], [0.1111111111111111, \"#46039f\"], [0.2222222222222222, \"#7201a8\"], [0.3333333333333333, \"#9c179e\"], [0.4444444444444444, \"#bd3786\"], [0.5555555555555556, \"#d8576b\"], [0.6666666666666666, \"#ed7953\"], [0.7777777777777778, \"#fb9f3a\"], [0.8888888888888888, \"#fdca26\"], [1.0, \"#f0f921\"]], \"type\": \"heatmapgl\"}], \"histogram\": [{\"marker\": {\"colorbar\": {\"outlinewidth\": 0, \"ticks\": \"\"}}, \"type\": \"histogram\"}], \"histogram2d\": [{\"colorbar\": {\"outlinewidth\": 0, \"ticks\": \"\"}, \"colorscale\": [[0.0, \"#0d0887\"], [0.1111111111111111, \"#46039f\"], [0.2222222222222222, \"#7201a8\"], [0.3333333333333333, \"#9c179e\"], [0.4444444444444444, \"#bd3786\"], [0.5555555555555556, \"#d8576b\"], [0.6666666666666666, \"#ed7953\"], [0.7777777777777778, \"#fb9f3a\"], [0.8888888888888888, \"#fdca26\"], [1.0, \"#f0f921\"]], \"type\": \"histogram2d\"}], \"histogram2dcontour\": [{\"colorbar\": {\"outlinewidth\": 0, \"ticks\": \"\"}, \"colorscale\": [[0.0, \"#0d0887\"], [0.1111111111111111, \"#46039f\"], [0.2222222222222222, \"#7201a8\"], [0.3333333333333333, \"#9c179e\"], [0.4444444444444444, \"#bd3786\"], [0.5555555555555556, \"#d8576b\"], [0.6666666666666666, \"#ed7953\"], [0.7777777777777778, \"#fb9f3a\"], [0.8888888888888888, \"#fdca26\"], [1.0, \"#f0f921\"]], \"type\": \"histogram2dcontour\"}], \"mesh3d\": [{\"colorbar\": {\"outlinewidth\": 0, \"ticks\": \"\"}, \"type\": \"mesh3d\"}], \"parcoords\": [{\"line\": {\"colorbar\": {\"outlinewidth\": 0, \"ticks\": \"\"}}, \"type\": \"parcoords\"}], \"pie\": [{\"automargin\": true, \"type\": \"pie\"}], \"scatter\": [{\"marker\": {\"colorbar\": {\"outlinewidth\": 0, \"ticks\": \"\"}}, \"type\": \"scatter\"}], \"scatter3d\": [{\"line\": {\"colorbar\": {\"outlinewidth\": 0, \"ticks\": \"\"}}, \"marker\": {\"colorbar\": {\"outlinewidth\": 0, \"ticks\": \"\"}}, \"type\": \"scatter3d\"}], \"scattercarpet\": [{\"marker\": {\"colorbar\": {\"outlinewidth\": 0, \"ticks\": \"\"}}, \"type\": \"scattercarpet\"}], \"scattergeo\": [{\"marker\": {\"colorbar\": {\"outlinewidth\": 0, \"ticks\": \"\"}}, \"type\": \"scattergeo\"}], \"scattergl\": [{\"marker\": {\"colorbar\": {\"outlinewidth\": 0, \"ticks\": \"\"}}, \"type\": \"scattergl\"}], \"scattermapbox\": [{\"marker\": {\"colorbar\": {\"outlinewidth\": 0, \"ticks\": \"\"}}, \"type\": \"scattermapbox\"}], \"scatterpolar\": [{\"marker\": {\"colorbar\": {\"outlinewidth\": 0, \"ticks\": \"\"}}, \"type\": \"scatterpolar\"}], \"scatterpolargl\": [{\"marker\": {\"colorbar\": {\"outlinewidth\": 0, \"ticks\": \"\"}}, \"type\": \"scatterpolargl\"}], \"scatterternary\": [{\"marker\": {\"colorbar\": {\"outlinewidth\": 0, \"ticks\": \"\"}}, \"type\": \"scatterternary\"}], \"surface\": [{\"colorbar\": {\"outlinewidth\": 0, \"ticks\": \"\"}, \"colorscale\": [[0.0, \"#0d0887\"], [0.1111111111111111, \"#46039f\"], [0.2222222222222222, \"#7201a8\"], [0.3333333333333333, \"#9c179e\"], [0.4444444444444444, \"#bd3786\"], [0.5555555555555556, \"#d8576b\"], [0.6666666666666666, \"#ed7953\"], [0.7777777777777778, \"#fb9f3a\"], [0.8888888888888888, \"#fdca26\"], [1.0, \"#f0f921\"]], \"type\": \"surface\"}], \"table\": [{\"cells\": {\"fill\": {\"color\": \"#EBF0F8\"}, \"line\": {\"color\": \"white\"}}, \"header\": {\"fill\": {\"color\": \"#C8D4E3\"}, \"line\": {\"color\": \"white\"}}, \"type\": \"table\"}]}, \"layout\": {\"annotationdefaults\": {\"arrowcolor\": \"#2a3f5f\", \"arrowhead\": 0, \"arrowwidth\": 1}, \"coloraxis\": {\"colorbar\": {\"outlinewidth\": 0, \"ticks\": \"\"}}, \"colorscale\": {\"diverging\": [[0, \"#8e0152\"], [0.1, \"#c51b7d\"], [0.2, \"#de77ae\"], [0.3, \"#f1b6da\"], [0.4, \"#fde0ef\"], [0.5, \"#f7f7f7\"], [0.6, \"#e6f5d0\"], [0.7, \"#b8e186\"], [0.8, \"#7fbc41\"], [0.9, \"#4d9221\"], [1, \"#276419\"]], \"sequential\": [[0.0, \"#0d0887\"], [0.1111111111111111, \"#46039f\"], [0.2222222222222222, \"#7201a8\"], [0.3333333333333333, \"#9c179e\"], [0.4444444444444444, \"#bd3786\"], [0.5555555555555556, \"#d8576b\"], [0.6666666666666666, \"#ed7953\"], [0.7777777777777778, \"#fb9f3a\"], [0.8888888888888888, \"#fdca26\"], [1.0, \"#f0f921\"]], \"sequentialminus\": [[0.0, \"#0d0887\"], [0.1111111111111111, \"#46039f\"], [0.2222222222222222, \"#7201a8\"], [0.3333333333333333, \"#9c179e\"], [0.4444444444444444, \"#bd3786\"], [0.5555555555555556, \"#d8576b\"], [0.6666666666666666, \"#ed7953\"], [0.7777777777777778, \"#fb9f3a\"], [0.8888888888888888, \"#fdca26\"], [1.0, \"#f0f921\"]]}, \"colorway\": [\"#636efa\", \"#EF553B\", \"#00cc96\", \"#ab63fa\", \"#FFA15A\", \"#19d3f3\", \"#FF6692\", \"#B6E880\", \"#FF97FF\", \"#FECB52\"], \"font\": {\"color\": \"#2a3f5f\"}, \"geo\": {\"bgcolor\": \"white\", \"lakecolor\": \"white\", \"landcolor\": \"#E5ECF6\", \"showlakes\": true, \"showland\": true, \"subunitcolor\": \"white\"}, \"hoverlabel\": {\"align\": \"left\"}, \"hovermode\": \"closest\", \"mapbox\": {\"style\": \"light\"}, \"paper_bgcolor\": \"white\", \"plot_bgcolor\": \"#E5ECF6\", \"polar\": {\"angularaxis\": {\"gridcolor\": \"white\", \"linecolor\": \"white\", \"ticks\": \"\"}, \"bgcolor\": \"#E5ECF6\", \"radialaxis\": {\"gridcolor\": \"white\", \"linecolor\": \"white\", \"ticks\": \"\"}}, \"scene\": {\"xaxis\": {\"backgroundcolor\": \"#E5ECF6\", \"gridcolor\": \"white\", \"gridwidth\": 2, \"linecolor\": \"white\", \"showbackground\": true, \"ticks\": \"\", \"zerolinecolor\": \"white\"}, \"yaxis\": {\"backgroundcolor\": \"#E5ECF6\", \"gridcolor\": \"white\", \"gridwidth\": 2, \"linecolor\": \"white\", \"showbackground\": true, \"ticks\": \"\", \"zerolinecolor\": \"white\"}, \"zaxis\": {\"backgroundcolor\": \"#E5ECF6\", \"gridcolor\": \"white\", \"gridwidth\": 2, \"linecolor\": \"white\", \"showbackground\": true, \"ticks\": \"\", \"zerolinecolor\": \"white\"}}, \"shapedefaults\": {\"line\": {\"color\": \"#2a3f5f\"}}, \"ternary\": {\"aaxis\": {\"gridcolor\": \"white\", \"linecolor\": \"white\", \"ticks\": \"\"}, \"baxis\": {\"gridcolor\": \"white\", \"linecolor\": \"white\", \"ticks\": \"\"}, \"bgcolor\": \"#E5ECF6\", \"caxis\": {\"gridcolor\": \"white\", \"linecolor\": \"white\", \"ticks\": \"\"}}, \"title\": {\"x\": 0.05}, \"xaxis\": {\"automargin\": true, \"gridcolor\": \"white\", \"linecolor\": \"white\", \"ticks\": \"\", \"title\": {\"standoff\": 15}, \"zerolinecolor\": \"white\", \"zerolinewidth\": 2}, \"yaxis\": {\"automargin\": true, \"gridcolor\": \"white\", \"linecolor\": \"white\", \"ticks\": \"\", \"title\": {\"standoff\": 15}, \"zerolinecolor\": \"white\", \"zerolinewidth\": 2}}}, \"title\": {\"text\": \"Stations\"}},                        {\"responsive\": true}                    ).then(function(){\n",
       "                            \n",
       "var gd = document.getElementById('b95f4ae9-a7ef-4803-a7e2-0ceb6af63264');\n",
       "var x = new MutationObserver(function (mutations, observer) {{\n",
       "        var display = window.getComputedStyle(gd).display;\n",
       "        if (!display || display === 'none') {{\n",
       "            console.log([gd, 'removed!']);\n",
       "            Plotly.purge(gd);\n",
       "            observer.disconnect();\n",
       "        }}\n",
       "}});\n",
       "\n",
       "// Listen for the removal of the full notebook cells\n",
       "var notebookContainer = gd.closest('#notebook-container');\n",
       "if (notebookContainer) {{\n",
       "    x.observe(notebookContainer, {childList: true});\n",
       "}}\n",
       "\n",
       "// Listen for the clearing of the current output cell\n",
       "var outputEl = gd.closest('.output');\n",
       "if (outputEl) {{\n",
       "    x.observe(outputEl, {childList: true});\n",
       "}}\n",
       "\n",
       "                        })                };                });            </script>        </div>"
      ]
     },
     "metadata": {},
     "output_type": "display_data"
    }
   ],
   "source": [
    "# Map nodes:\n",
    "fig = px.scatter_geo(stations, \"LAT\", \"LONG\",\n",
    "#                      color=\"Status\", # which column to use to set the color of markers\n",
    "                     hover_name=stations[\"STATION NAME\"], # column added to hover information\n",
    "                     hover_data=[stations[\"URSI\"]], \n",
    "                     )\n",
    "fig.update_layout(title=\"Stations\")\n",
    "fig.show()"
   ]
  },
  {
   "cell_type": "markdown",
   "id": "4908dc79",
   "metadata": {},
   "source": [
    "## Functions to read data: "
   ]
  },
  {
   "cell_type": "markdown",
   "id": "5b6082cd",
   "metadata": {},
   "source": [
    "### Construct URL\n",
    "Example: https://lgdc.uml.edu/common/DIDBGetValues?ursiCode=BC840&charName=hmE&fromDate=2020.01.29&toDate=2020.01.30"
   ]
  },
  {
   "cell_type": "markdown",
   "id": "fdfaa920",
   "metadata": {},
   "source": [
    "### Read URL data"
   ]
  },
  {
   "cell_type": "code",
   "execution_count": 6,
   "id": "05ddf81e",
   "metadata": {},
   "outputs": [
    {
     "name": "stdout",
     "output_type": "stream",
     "text": [
      "***************************************\r\n",
      "\n",
      "*                                     *\r\n",
      "\n",
      "*            HOW TO SOLVE:            *\r\n",
      "\n",
      "*                                     *\r\n",
      "\n",
      "*        THE ALPINE ENCOUNTER         *\r\n",
      "\n",
      "*                                     *\r\n",
      "\n",
      "***************************************\r\n",
      "\n",
      "\r\n",
      "\n",
      "THIS ADVENTURE IS TRULY AN ENIGMA.\r\n",
      "\n",
      "IT CAN BE SOLVED IN HUNDREDS OF MOVES\r\n",
      "\n",
      "OR HALF A DOZEN....\r\n",
      "\n",
      "WELL I HAVEN'T PLAYED THE HUNDRED MOVE\r\n",
      "\n",
      "VERSION...SO HERE'S THE SHORT ONE.\r\n",
      "\n",
      "\r\n",
      "\n",
      "COMMANDS IN BRACKETS:\r\n",
      "\n",
      "\r\n",
      "\n",
      " [N] THIS WILL PUT YOU INSIDE.\r\n",
      "\n",
      " [N] THIS WILL GET YOU NEAR THE DESK.\r\n",
      "\n",
      " [W] THIS WILL GET YOU TO THE REGIS-\r\n",
      "\n",
      "     TRATION DESK.\r\n",
      "\n",
      " [REGISTER] A FORMALITY. FILL IN ANY\r\n",
      "\n",
      "   NAME, ADDRESS, ETC.\r\n",
      "\n",
      " [WAIT] FOR A BLONDE WOMAN TO APPEAR.\r\n",
      "\n",
      "   SHE'LL APPEAR AROUND 9:45.\r\n",
      "\n",
      "   AT THAT POINT PRESS A KEY (NOT\r\n",
      "\n",
      "   BEFORE.)\r\n",
      "\n",
      " [LOOK BACKPACK] THIS WILL UNCOVER A\r\n",
      "\n",
      "   VASE.\r\n",
      "\n",
      " [TAKE VASE] YOU HAVE THE VITAL\r\n",
      "\n",
      "   INFORMATION UNDER YOUR NOSE!\r\n",
      "\n",
      " [CALL INSPECTOR] YOU HAVE WON!\r\n",
      "\n",
      "\r\n",
      "\n",
      "   THERE ARE MANY OTHER PLACES TO GO,\r\n",
      "\n",
      "THINGS TO DO, ETC.  BUT THE PARSER\r\n",
      "\n",
      "IS BAD AND THE GRAPHICS SLOPPY SO\r\n",
      "\n",
      "WHY BOTHER?\r\n",
      "\n",
      "\r\n",
      "\n",
      "THE EXPLANATION IS AS FOLLOWS:\r\n",
      "\n",
      "\r\n",
      "\n",
      "  1) YOU FIND OUT YOUR MISSION,\r\n",
      "\n",
      "     GETTING THE VASE BY READING THE\r\n",
      "\n",
      "     NEWSPAPER.\r\n",
      "\n",
      "\r\n",
      "\n",
      "  2) YOU FIND OUT THE WOMAN'S NAME\r\n",
      "\n",
      "     (SINCE TYPING 'LOOK WOMAN' DOES\r\n",
      "\n",
      "     NOT WORK) BY FOLLOWING HER AND\r\n",
      "\n",
      "     'LISTEN'-ING TO HER CONVERSATION.\r\n",
      "\n",
      "     IT IS RENEE.\r\n",
      "\n",
      "\r\n",
      "\n",
      "  3) YOU FIND THE BACKPACK ON HER AND\r\n",
      "\n",
      "     LOOK IN IT DUE TO COMMON SENSE.\r\n",
      "\n",
      "\r\n",
      "\n",
      "  4) IF YOU CARRY THE VASE AROUND AND\r\n",
      "\n",
      "     RUN INTO THE INSPECTOR HE ARRESTS\r\n",
      "\n",
      "     YOU. SO YOU 'CALL INSPECTOR'.\r\n",
      "\n",
      "\r\n",
      "\n",
      "\r\n",
      "\n",
      "              WRITTEN BY:\r\n",
      "\n",
      "\r\n",
      "\n",
      "            PIRATE'S FRIEND\r\n",
      "\n",
      "            *FRED SOFTWARE*\r\n",
      "\n"
     ]
    }
   ],
   "source": [
    "url = \"http://textfiles.com/adventure/aencounter.txt\"\n",
    "file = urllib.request.urlopen(url)\n",
    "\n",
    "for line in file:\n",
    "    decoded_line = line.decode(\"utf-8\")\n",
    "    print(decoded_line)"
   ]
  },
  {
   "cell_type": "markdown",
   "id": "b6495c59",
   "metadata": {},
   "source": [
    "### Plot data from one or more ionosondes:"
   ]
  }
 ],
 "metadata": {
  "kernelspec": {
   "display_name": "Python 3",
   "language": "python",
   "name": "python3"
  },
  "language_info": {
   "codemirror_mode": {
    "name": "ipython",
    "version": 3
   },
   "file_extension": ".py",
   "mimetype": "text/x-python",
   "name": "python",
   "nbconvert_exporter": "python",
   "pygments_lexer": "ipython3",
   "version": "3.6.9"
  }
 },
 "nbformat": 4,
 "nbformat_minor": 5
}
