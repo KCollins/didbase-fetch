{
 "cells": [
  {
   "cell_type": "markdown",
   "id": "0aa15c7c",
   "metadata": {},
   "source": [
    "# Lowell Digisonde Reader\n",
    "This notebook is a tool to read and plot data from the Lowell Digisonde network: https://www.digisonde.com/\n",
    "\n",
    "Follow the Rules of the Road! https://giro.uml.edu/didbase/RulesOfTheRoad.html"
   ]
  },
  {
   "cell_type": "code",
   "execution_count": 39,
   "id": "c1db8b6a",
   "metadata": {},
   "outputs": [],
   "source": [
    "import urllib\n",
    "import pandas as pd\n",
    "import plotly.express as px\n",
    "import wget\n",
    "import os                                      # for making sure we have a directory to write data to\n",
    "\n",
    "\n",
    "# Generate output directories:\n",
    "if not os.path.exists('data'):\n",
    "    os.makedirs('data')\n",
    "if not os.path.exists('plots'):\n",
    "    os.makedirs('plots')"
   ]
  },
  {
   "cell_type": "markdown",
   "id": "fb04328c",
   "metadata": {},
   "source": [
    "## Read Station List\n"
   ]
  },
  {
   "cell_type": "code",
   "execution_count": 40,
   "id": "add13c7f",
   "metadata": {},
   "outputs": [],
   "source": [
    "stations = pd.read_csv('DIDBASE List.csv')\n",
    "stations = stations.set_index('URSI')"
   ]
  },
  {
   "cell_type": "markdown",
   "id": "a35e1a83",
   "metadata": {},
   "source": [
    "## Map stations"
   ]
  },
  {
   "cell_type": "code",
   "execution_count": 41,
   "id": "35396cee",
   "metadata": {},
   "outputs": [
    {
     "data": {
      "application/vnd.plotly.v1+json": {
       "config": {
        "plotlyServerURL": "https://plot.ly"
       },
       "data": [
        {
         "customdata": [
          [
           "AH223"
          ],
          [
           "AL945"
          ],
          [
           "AN438"
          ],
          [
           "AS00Q"
          ],
          [
           "AT138"
          ],
          [
           "AU930"
          ],
          [
           "BP440"
          ],
          [
           "BLJ03"
          ],
          [
           "BJJ32"
          ],
          [
           "BVJ03"
          ],
          [
           "BC840"
          ],
          [
           "BR52P"
          ],
          [
           "BV53Q"
          ],
          [
           "CXM9B"
          ],
          [
           "CAJ2M"
          ],
          [
           "CN53L"
          ],
          [
           "CGK21"
          ],
          [
           "CB53N"
          ],
          [
           "CH833"
          ],
          [
           "RL052"
          ],
          [
           "CS31K"
          ],
          [
           "CO764"
          ],
          [
           "CS839"
          ],
          [
           "DW41K"
          ],
          [
           "DB049"
          ],
          [
           "DS932"
          ],
          [
           "EA653"
          ],
          [
           "EG931"
          ],
          [
           "EI764"
          ],
          [
           "TR170"
          ],
          [
           "EA036"
          ],
          [
           "MO156"
          ],
          [
           "FF051"
          ],
          [
           "FZA0M"
          ],
          [
           "GA313"
          ],
          [
           "GA762"
          ],
          [
           "GM037"
          ],
          [
           "GSJ53"
          ],
          [
           "GR13L"
          ],
          [
           "GU513"
          ],
          [
           "HA419"
          ],
          [
           "HAJ43"
          ],
          [
           "HE13N"
          ],
          [
           "HO54K"
          ],
          [
           "IC437"
          ],
          [
           "AC843"
          ],
          [
           "IF843"
          ],
          [
           "IL008"
          ],
          [
           "IR352"
          ],
          [
           "JB57N"
          ],
          [
           "JJ433"
          ],
          [
           "JI91J"
          ],
          [
           "JR055"
          ],
          [
           "KL154"
          ],
          [
           "KI939"
          ],
          [
           "KB547"
          ],
          [
           "KS759"
          ],
          [
           "KR835"
          ],
          [
           "KI167"
          ],
          [
           "TO535"
          ],
          [
           "KJ609"
          ],
          [
           "LA42Q"
          ],
          [
           "LM42B"
          ],
          [
           "LV12P"
          ],
          [
           "LL721"
          ],
          [
           "MU12K"
          ],
          [
           "MA560"
          ],
          [
           "ME929"
          ],
          [
           "MHJ45"
          ],
          [
           "MH453"
          ],
          [
           "MA155"
          ],
          [
           "MO155"
          ],
          [
           "MU230"
          ],
          [
           "MU834"
          ],
          [
           "NQJ61"
          ],
          [
           "NI135"
          ],
          [
           "ND61R"
          ],
          [
           "NDA81"
          ],
          [
           "NI63_"
          ],
          [
           "NO369"
          ],
          [
           "NV355"
          ],
          [
           "OK426"
          ],
          [
           "OL246"
          ],
          [
           "SN437"
          ],
          [
           "PE43K"
          ],
          [
           "PK553"
          ],
          [
           "PF765"
          ],
          [
           "PSJ5J"
          ],
          [
           "PQ052"
          ],
          [
           "PA836"
          ],
          [
           "SJJ18"
          ],
          [
           "PRJ18"
          ],
          [
           "RM041"
          ],
          [
           "RO041"
          ],
          [
           "EB040"
          ],
          [
           "RV149"
          ],
          [
           "SH266"
          ],
          [
           "VT139"
          ],
          [
           "SMK29"
          ],
          [
           "SA418"
          ],
          [
           "SAA0K"
          ],
          [
           "SMJ67"
          ],
          [
           "SO148"
          ],
          [
           "SH42_"
          ],
          [
           "SQ832"
          ],
          [
           "LD160"
          ],
          [
           "THJ76"
          ],
          [
           "THJ77"
          ],
          [
           "TV51R"
          ],
          [
           "TM308"
          ],
          [
           "TR169"
          ],
          [
           "TUJ2O"
          ],
          [
           "TNJ20"
          ],
          [
           "TZ362"
          ],
          [
           "WA619"
          ],
          [
           "WP937"
          ],
          [
           "WI937"
          ],
          [
           "MZ152"
          ],
          [
           "WU430"
          ],
          [
           "XI434"
          ],
          [
           "YA462"
          ],
          [
           "ZH466"
          ],
          [
           "ZS36R"
          ]
         ],
         "geo": "geo",
         "hovertemplate": "<b>%{hovertext}</b><br><br>LAT=%{lat}<br>LONG=%{lon}<br>URSI=%{customdata[0]}<extra></extra>",
         "hovertext": [
          "AHMEDABAD",
          "ALPENA",
          "ANYANG",
          "ASCENSION ISLAND",
          "ATHENS",
          "AUSTIN",
          "BEIJING",
          "BELEM",
          "BERMUDA",
          "BOA VISTA",
          "BOULDER",
          "BRISBANE",
          "BUNDOORA",
          "CACHIMBO",
          "CACHOEIRA PAULISTA",
          "CAMDEN",
          "CAMPO GRANDE",
          "CANBERRA",
          "CHERRY",
          "CHILTON",
          "COCOS_ISLAND",
          "COLLEGE AK",
          "COLORADO_SPRINGS",
          "DARWIN",
          "DOURBES",
          "DYESS AFB",
          "EARECKSON",
          "EGLIN AFB",
          "EIELSON",
          "EISCAT TROMSO",
          "EL ARENOSILLO",
          "ELEKTROUGLI",
          "FAIRFORD",
          "FORTALEZA",
          "GADANKI",
          "GAKONA",
          "GIBILMANNA",
          "GOOSE BAY",
          "GRAHAMSTOWN",
          "GUAM",
          "HAINAN",
          "HANSCOM AFB",
          "HERMANUS",
          "HOBART",
          "I-CHEON",
          "IDAHO NATIONAL LAB",
          "IDAHO NATIONAL LAB",
          "ILORIN",
          "IRKUTSK",
          "JANG BOGO",
          "JEJU",
          "JICAMARCA",
          "JULIUSRUH",
          "KALININGRAD",
          "KENT IS",
          "KHABAROVSK",
          "KING SALMON",
          "KIRTLAND",
          "KIRUNA SWEDEN",
          "KOKUBUNJI",
          "KWAJALEIN",
          "LAVERTON",
          "LEARMONTH",
          "LOUISVALE",
          "LUALUALEI",
          "MADIMBO",
          "MAGADAN",
          "MELROSE",
          "MILLSTONE HILL",
          "MOHE",
          "MOSCOW",
          "MOSCOW",
          "MULTAN",
          "MUNYO",
          "NARSSARSSUAQ",
          "NICOSIA",
          "NIUE",
          "NORD GREENLAND",
          "NORFOLK",
          "NORILSK",
          "NOVOSIBIRSK",
          "OKINAWA",
          "OLSZTYN",
          "OSAN AB",
          "PERTH",
          "PETROPAVLOVSK",
          "POKER FLAT",
          "PORT STANLEY",
          "PRUHONICE",
          "PT ARGUELLO",
          "PUERTO RICO",
          "RAMEY",
          "ROME",
          "ROME",
          "ROQUETES",
          "ROSTOV",
          "SALEKHARD",
          "SAN VITO",
          "SANTA MARIA",
          "SANYA",
          "SAOLUIS",
          "SONDRESTROM",
          "SOPRON",
          "SOUTH HEDLAND",
          "SQUIRT",
          "ST. PETERSBURG",
          "THULE",
          "THULE/QAANAAQ",
          "TOWNSVILLE",
          "TRIVANDRUM",
          "TROMSO",
          "TUCUMAN",
          "TUCUMAN AIS-INGV",
          "TUNGUSKA",
          "WAKE",
          "WALLOPS IS",
          "WALLOPS ISLAND",
          "WARSAW",
          "WUHAN",
          "XINXIANG CHINA",
          "YAKUTSK",
          "ZHIGANSK",
          "ZHONG SHAN"
         ],
         "lat": [
          23,
          45.07,
          37.39,
          -7.95,
          38,
          30.4,
          40.3,
          1.43,
          32.4,
          2.8,
          40,
          -27.06,
          -37.7,
          -9.5,
          -22.7,
          -34.05,
          -20.5,
          -35.32,
          32.9,
          51.5,
          -12.18,
          64.9,
          39,
          -12.45,
          50.1,
          32.4,
          52.73,
          30.5,
          64.66,
          69.58,
          37.1,
          55.76,
          51.7,
          -3.9,
          13.46,
          62.38,
          37.9,
          53.3,
          -33.3,
          13.62,
          19.4,
          42.5,
          -34.42,
          -42.92,
          37.14,
          43.81,
          43.81,
          8.5,
          52.4,
          -74.62,
          33.43,
          -12,
          54.6,
          54.36,
          38.96,
          47.52,
          58.4,
          35,
          67.86,
          35.7,
          9,
          -28.3,
          -21.8,
          -28.5,
          21.43,
          -22.39,
          60.09,
          29.71,
          42.6,
          52,
          55.49,
          55.47,
          33.03,
          33.56,
          61.2,
          35.03,
          -19.07,
          81.4,
          -29.03,
          69.2,
          55.02,
          26.68,
          53.8,
          37.1,
          -32,
          52.97,
          65.13,
          -51.6,
          50,
          34.8,
          18.11,
          18.5,
          41.8,
          41.9,
          40.8,
          47.24,
          66.51,
          40.6,
          -29.73,
          18.34,
          -2.6,
          66.98,
          47.63,
          -20.4,
          32.42,
          60,
          76.54,
          77.5,
          -19.63,
          8.54,
          69.6,
          -26.9,
          -26.9,
          61.58,
          19.29,
          37.9,
          37.94,
          52.2,
          30.5,
          35.3,
          62,
          66.8,
          -69.4
         ],
         "legendgroup": "",
         "lon": [
          72.5,
          276.44,
          126.95,
          345.6,
          23.5,
          262.3,
          116.2,
          311.56,
          295.3,
          299.3,
          254.7,
          153.06,
          145.05,
          305.2,
          315,
          150.67,
          305,
          149,
          253.59,
          359.4,
          96.83,
          212,
          255.12,
          130.95,
          4.6,
          260.2,
          185.92,
          273.5,
          212.93,
          19.22,
          353.3,
          38.28,
          358.5,
          321.6,
          79.17,
          215,
          14,
          299.7,
          26.5,
          144.86,
          109,
          288.7,
          19.22,
          147.32,
          127.54,
          247.32,
          247.32,
          4.5,
          104.3,
          164.24,
          126.3,
          283.2,
          13.4,
          20.12,
          283.72,
          134.77,
          203.6,
          253.47,
          20.43,
          139.5,
          167.2,
          122.8,
          114.1,
          21.2,
          201.85,
          30.88,
          150.93,
          278,
          288.5,
          122.52,
          37.29,
          37.3,
          72.01,
          253.35,
          314.6,
          33.16,
          190.07,
          342.5,
          167.97,
          88,
          82.21,
          128.15,
          20.5,
          127,
          116.13,
          158.24,
          212.55,
          302.1,
          14.6,
          239.5,
          293.75,
          292.9,
          12.5,
          12.5,
          0.5,
          39.63,
          66.66,
          17.8,
          306.29,
          109.42,
          315.8,
          309.06,
          16.72,
          118.5,
          253.71,
          30.7,
          291.56,
          290.8,
          146.85,
          76.87,
          19.2,
          294.6,
          294.6,
          90.02,
          166.65,
          284.5,
          284.42,
          21.1,
          114.4,
          113.92,
          129.6,
          123.4,
          76.4
         ],
         "marker": {
          "color": "#636efa",
          "symbol": "circle"
         },
         "mode": "markers",
         "name": "",
         "showlegend": false,
         "type": "scattergeo"
        }
       ],
       "layout": {
        "autosize": true,
        "geo": {
         "center": {},
         "domain": {
          "x": [
           0,
           1
          ],
          "y": [
           0,
           1
          ]
         }
        },
        "legend": {
         "tracegroupgap": 0
        },
        "margin": {
         "t": 60
        },
        "template": {
         "data": {
          "bar": [
           {
            "error_x": {
             "color": "#2a3f5f"
            },
            "error_y": {
             "color": "#2a3f5f"
            },
            "marker": {
             "line": {
              "color": "#E5ECF6",
              "width": 0.5
             },
             "pattern": {
              "fillmode": "overlay",
              "size": 10,
              "solidity": 0.2
             }
            },
            "type": "bar"
           }
          ],
          "barpolar": [
           {
            "marker": {
             "line": {
              "color": "#E5ECF6",
              "width": 0.5
             },
             "pattern": {
              "fillmode": "overlay",
              "size": 10,
              "solidity": 0.2
             }
            },
            "type": "barpolar"
           }
          ],
          "carpet": [
           {
            "aaxis": {
             "endlinecolor": "#2a3f5f",
             "gridcolor": "white",
             "linecolor": "white",
             "minorgridcolor": "white",
             "startlinecolor": "#2a3f5f"
            },
            "baxis": {
             "endlinecolor": "#2a3f5f",
             "gridcolor": "white",
             "linecolor": "white",
             "minorgridcolor": "white",
             "startlinecolor": "#2a3f5f"
            },
            "type": "carpet"
           }
          ],
          "choropleth": [
           {
            "colorbar": {
             "outlinewidth": 0,
             "ticks": ""
            },
            "type": "choropleth"
           }
          ],
          "contour": [
           {
            "colorbar": {
             "outlinewidth": 0,
             "ticks": ""
            },
            "colorscale": [
             [
              0,
              "#0d0887"
             ],
             [
              0.1111111111111111,
              "#46039f"
             ],
             [
              0.2222222222222222,
              "#7201a8"
             ],
             [
              0.3333333333333333,
              "#9c179e"
             ],
             [
              0.4444444444444444,
              "#bd3786"
             ],
             [
              0.5555555555555556,
              "#d8576b"
             ],
             [
              0.6666666666666666,
              "#ed7953"
             ],
             [
              0.7777777777777778,
              "#fb9f3a"
             ],
             [
              0.8888888888888888,
              "#fdca26"
             ],
             [
              1,
              "#f0f921"
             ]
            ],
            "type": "contour"
           }
          ],
          "contourcarpet": [
           {
            "colorbar": {
             "outlinewidth": 0,
             "ticks": ""
            },
            "type": "contourcarpet"
           }
          ],
          "heatmap": [
           {
            "colorbar": {
             "outlinewidth": 0,
             "ticks": ""
            },
            "colorscale": [
             [
              0,
              "#0d0887"
             ],
             [
              0.1111111111111111,
              "#46039f"
             ],
             [
              0.2222222222222222,
              "#7201a8"
             ],
             [
              0.3333333333333333,
              "#9c179e"
             ],
             [
              0.4444444444444444,
              "#bd3786"
             ],
             [
              0.5555555555555556,
              "#d8576b"
             ],
             [
              0.6666666666666666,
              "#ed7953"
             ],
             [
              0.7777777777777778,
              "#fb9f3a"
             ],
             [
              0.8888888888888888,
              "#fdca26"
             ],
             [
              1,
              "#f0f921"
             ]
            ],
            "type": "heatmap"
           }
          ],
          "heatmapgl": [
           {
            "colorbar": {
             "outlinewidth": 0,
             "ticks": ""
            },
            "colorscale": [
             [
              0,
              "#0d0887"
             ],
             [
              0.1111111111111111,
              "#46039f"
             ],
             [
              0.2222222222222222,
              "#7201a8"
             ],
             [
              0.3333333333333333,
              "#9c179e"
             ],
             [
              0.4444444444444444,
              "#bd3786"
             ],
             [
              0.5555555555555556,
              "#d8576b"
             ],
             [
              0.6666666666666666,
              "#ed7953"
             ],
             [
              0.7777777777777778,
              "#fb9f3a"
             ],
             [
              0.8888888888888888,
              "#fdca26"
             ],
             [
              1,
              "#f0f921"
             ]
            ],
            "type": "heatmapgl"
           }
          ],
          "histogram": [
           {
            "marker": {
             "pattern": {
              "fillmode": "overlay",
              "size": 10,
              "solidity": 0.2
             }
            },
            "type": "histogram"
           }
          ],
          "histogram2d": [
           {
            "colorbar": {
             "outlinewidth": 0,
             "ticks": ""
            },
            "colorscale": [
             [
              0,
              "#0d0887"
             ],
             [
              0.1111111111111111,
              "#46039f"
             ],
             [
              0.2222222222222222,
              "#7201a8"
             ],
             [
              0.3333333333333333,
              "#9c179e"
             ],
             [
              0.4444444444444444,
              "#bd3786"
             ],
             [
              0.5555555555555556,
              "#d8576b"
             ],
             [
              0.6666666666666666,
              "#ed7953"
             ],
             [
              0.7777777777777778,
              "#fb9f3a"
             ],
             [
              0.8888888888888888,
              "#fdca26"
             ],
             [
              1,
              "#f0f921"
             ]
            ],
            "type": "histogram2d"
           }
          ],
          "histogram2dcontour": [
           {
            "colorbar": {
             "outlinewidth": 0,
             "ticks": ""
            },
            "colorscale": [
             [
              0,
              "#0d0887"
             ],
             [
              0.1111111111111111,
              "#46039f"
             ],
             [
              0.2222222222222222,
              "#7201a8"
             ],
             [
              0.3333333333333333,
              "#9c179e"
             ],
             [
              0.4444444444444444,
              "#bd3786"
             ],
             [
              0.5555555555555556,
              "#d8576b"
             ],
             [
              0.6666666666666666,
              "#ed7953"
             ],
             [
              0.7777777777777778,
              "#fb9f3a"
             ],
             [
              0.8888888888888888,
              "#fdca26"
             ],
             [
              1,
              "#f0f921"
             ]
            ],
            "type": "histogram2dcontour"
           }
          ],
          "mesh3d": [
           {
            "colorbar": {
             "outlinewidth": 0,
             "ticks": ""
            },
            "type": "mesh3d"
           }
          ],
          "parcoords": [
           {
            "line": {
             "colorbar": {
              "outlinewidth": 0,
              "ticks": ""
             }
            },
            "type": "parcoords"
           }
          ],
          "pie": [
           {
            "automargin": true,
            "type": "pie"
           }
          ],
          "scatter": [
           {
            "fillpattern": {
             "fillmode": "overlay",
             "size": 10,
             "solidity": 0.2
            },
            "type": "scatter"
           }
          ],
          "scatter3d": [
           {
            "line": {
             "colorbar": {
              "outlinewidth": 0,
              "ticks": ""
             }
            },
            "marker": {
             "colorbar": {
              "outlinewidth": 0,
              "ticks": ""
             }
            },
            "type": "scatter3d"
           }
          ],
          "scattercarpet": [
           {
            "marker": {
             "colorbar": {
              "outlinewidth": 0,
              "ticks": ""
             }
            },
            "type": "scattercarpet"
           }
          ],
          "scattergeo": [
           {
            "marker": {
             "colorbar": {
              "outlinewidth": 0,
              "ticks": ""
             }
            },
            "type": "scattergeo"
           }
          ],
          "scattergl": [
           {
            "marker": {
             "colorbar": {
              "outlinewidth": 0,
              "ticks": ""
             }
            },
            "type": "scattergl"
           }
          ],
          "scattermapbox": [
           {
            "marker": {
             "colorbar": {
              "outlinewidth": 0,
              "ticks": ""
             }
            },
            "type": "scattermapbox"
           }
          ],
          "scatterpolar": [
           {
            "marker": {
             "colorbar": {
              "outlinewidth": 0,
              "ticks": ""
             }
            },
            "type": "scatterpolar"
           }
          ],
          "scatterpolargl": [
           {
            "marker": {
             "colorbar": {
              "outlinewidth": 0,
              "ticks": ""
             }
            },
            "type": "scatterpolargl"
           }
          ],
          "scatterternary": [
           {
            "marker": {
             "colorbar": {
              "outlinewidth": 0,
              "ticks": ""
             }
            },
            "type": "scatterternary"
           }
          ],
          "surface": [
           {
            "colorbar": {
             "outlinewidth": 0,
             "ticks": ""
            },
            "colorscale": [
             [
              0,
              "#0d0887"
             ],
             [
              0.1111111111111111,
              "#46039f"
             ],
             [
              0.2222222222222222,
              "#7201a8"
             ],
             [
              0.3333333333333333,
              "#9c179e"
             ],
             [
              0.4444444444444444,
              "#bd3786"
             ],
             [
              0.5555555555555556,
              "#d8576b"
             ],
             [
              0.6666666666666666,
              "#ed7953"
             ],
             [
              0.7777777777777778,
              "#fb9f3a"
             ],
             [
              0.8888888888888888,
              "#fdca26"
             ],
             [
              1,
              "#f0f921"
             ]
            ],
            "type": "surface"
           }
          ],
          "table": [
           {
            "cells": {
             "fill": {
              "color": "#EBF0F8"
             },
             "line": {
              "color": "white"
             }
            },
            "header": {
             "fill": {
              "color": "#C8D4E3"
             },
             "line": {
              "color": "white"
             }
            },
            "type": "table"
           }
          ]
         },
         "layout": {
          "annotationdefaults": {
           "arrowcolor": "#2a3f5f",
           "arrowhead": 0,
           "arrowwidth": 1
          },
          "autotypenumbers": "strict",
          "coloraxis": {
           "colorbar": {
            "outlinewidth": 0,
            "ticks": ""
           }
          },
          "colorscale": {
           "diverging": [
            [
             0,
             "#8e0152"
            ],
            [
             0.1,
             "#c51b7d"
            ],
            [
             0.2,
             "#de77ae"
            ],
            [
             0.3,
             "#f1b6da"
            ],
            [
             0.4,
             "#fde0ef"
            ],
            [
             0.5,
             "#f7f7f7"
            ],
            [
             0.6,
             "#e6f5d0"
            ],
            [
             0.7,
             "#b8e186"
            ],
            [
             0.8,
             "#7fbc41"
            ],
            [
             0.9,
             "#4d9221"
            ],
            [
             1,
             "#276419"
            ]
           ],
           "sequential": [
            [
             0,
             "#0d0887"
            ],
            [
             0.1111111111111111,
             "#46039f"
            ],
            [
             0.2222222222222222,
             "#7201a8"
            ],
            [
             0.3333333333333333,
             "#9c179e"
            ],
            [
             0.4444444444444444,
             "#bd3786"
            ],
            [
             0.5555555555555556,
             "#d8576b"
            ],
            [
             0.6666666666666666,
             "#ed7953"
            ],
            [
             0.7777777777777778,
             "#fb9f3a"
            ],
            [
             0.8888888888888888,
             "#fdca26"
            ],
            [
             1,
             "#f0f921"
            ]
           ],
           "sequentialminus": [
            [
             0,
             "#0d0887"
            ],
            [
             0.1111111111111111,
             "#46039f"
            ],
            [
             0.2222222222222222,
             "#7201a8"
            ],
            [
             0.3333333333333333,
             "#9c179e"
            ],
            [
             0.4444444444444444,
             "#bd3786"
            ],
            [
             0.5555555555555556,
             "#d8576b"
            ],
            [
             0.6666666666666666,
             "#ed7953"
            ],
            [
             0.7777777777777778,
             "#fb9f3a"
            ],
            [
             0.8888888888888888,
             "#fdca26"
            ],
            [
             1,
             "#f0f921"
            ]
           ]
          },
          "colorway": [
           "#636efa",
           "#EF553B",
           "#00cc96",
           "#ab63fa",
           "#FFA15A",
           "#19d3f3",
           "#FF6692",
           "#B6E880",
           "#FF97FF",
           "#FECB52"
          ],
          "font": {
           "color": "#2a3f5f"
          },
          "geo": {
           "bgcolor": "white",
           "lakecolor": "white",
           "landcolor": "#E5ECF6",
           "showlakes": true,
           "showland": true,
           "subunitcolor": "white"
          },
          "hoverlabel": {
           "align": "left"
          },
          "hovermode": "closest",
          "mapbox": {
           "style": "light"
          },
          "paper_bgcolor": "white",
          "plot_bgcolor": "#E5ECF6",
          "polar": {
           "angularaxis": {
            "gridcolor": "white",
            "linecolor": "white",
            "ticks": ""
           },
           "bgcolor": "#E5ECF6",
           "radialaxis": {
            "gridcolor": "white",
            "linecolor": "white",
            "ticks": ""
           }
          },
          "scene": {
           "xaxis": {
            "backgroundcolor": "#E5ECF6",
            "gridcolor": "white",
            "gridwidth": 2,
            "linecolor": "white",
            "showbackground": true,
            "ticks": "",
            "zerolinecolor": "white"
           },
           "yaxis": {
            "backgroundcolor": "#E5ECF6",
            "gridcolor": "white",
            "gridwidth": 2,
            "linecolor": "white",
            "showbackground": true,
            "ticks": "",
            "zerolinecolor": "white"
           },
           "zaxis": {
            "backgroundcolor": "#E5ECF6",
            "gridcolor": "white",
            "gridwidth": 2,
            "linecolor": "white",
            "showbackground": true,
            "ticks": "",
            "zerolinecolor": "white"
           }
          },
          "shapedefaults": {
           "line": {
            "color": "#2a3f5f"
           }
          },
          "ternary": {
           "aaxis": {
            "gridcolor": "white",
            "linecolor": "white",
            "ticks": ""
           },
           "baxis": {
            "gridcolor": "white",
            "linecolor": "white",
            "ticks": ""
           },
           "bgcolor": "#E5ECF6",
           "caxis": {
            "gridcolor": "white",
            "linecolor": "white",
            "ticks": ""
           }
          },
          "title": {
           "x": 0.05
          },
          "xaxis": {
           "automargin": true,
           "gridcolor": "white",
           "linecolor": "white",
           "ticks": "",
           "title": {
            "standoff": 15
           },
           "zerolinecolor": "white",
           "zerolinewidth": 2
          },
          "yaxis": {
           "automargin": true,
           "gridcolor": "white",
           "linecolor": "white",
           "ticks": "",
           "title": {
            "standoff": 15
           },
           "zerolinecolor": "white",
           "zerolinewidth": 2
          }
         }
        },
        "title": {
         "text": "Stations"
        }
       }
      },
      "image/png": "[encoded data removed]",
      "text/html": [
       "<div>                            <div id=\"0bbb4530-1275-456a-ad1f-23ccf78230a9\" class=\"plotly-graph-div\" style=\"height:525px; width:100%;\"></div>            <script type=\"text/javascript\">                require([\"plotly\"], function(Plotly) {                    window.PLOTLYENV=window.PLOTLYENV || {};                                    if (document.getElementById(\"0bbb4530-1275-456a-ad1f-23ccf78230a9\")) {                    Plotly.newPlot(                        \"0bbb4530-1275-456a-ad1f-23ccf78230a9\",                        [{\"customdata\":[[\"AH223\"],[\"AL945\"],[\"AN438\"],[\"AS00Q\"],[\"AT138\"],[\"AU930\"],[\"BP440\"],[\"BLJ03\"],[\"BJJ32\"],[\"BVJ03\"],[\"BC840\"],[\"BR52P\"],[\"BV53Q\"],[\"CXM9B\"],[\"CAJ2M\"],[\"CN53L\"],[\"CGK21\"],[\"CB53N\"],[\"CH833\"],[\"RL052\"],[\"CS31K\"],[\"CO764\"],[\"CS839\"],[\"DW41K\"],[\"DB049\"],[\"DS932\"],[\"EA653\"],[\"EG931\"],[\"EI764\"],[\"TR170\"],[\"EA036\"],[\"MO156\"],[\"FF051\"],[\"FZA0M\"],[\"GA313\"],[\"GA762\"],[\"GM037\"],[\"GSJ53\"],[\"GR13L\"],[\"GU513\"],[\"HA419\"],[\"HAJ43\"],[\"HE13N\"],[\"HO54K\"],[\"IC437\"],[\"AC843\"],[\"IF843\"],[\"IL008\"],[\"IR352\"],[\"JB57N\"],[\"JJ433\"],[\"JI91J\"],[\"JR055\"],[\"KL154\"],[\"KI939\"],[\"KB547\"],[\"KS759\"],[\"KR835\"],[\"KI167\"],[\"TO535\"],[\"KJ609\"],[\"LA42Q\"],[\"LM42B\"],[\"LV12P\"],[\"LL721\"],[\"MU12K\"],[\"MA560\"],[\"ME929\"],[\"MHJ45\"],[\"MH453\"],[\"MA155\"],[\"MO155\"],[\"MU230\"],[\"MU834\"],[\"NQJ61\"],[\"NI135\"],[\"ND61R\"],[\"NDA81\"],[\"NI63_\"],[\"NO369\"],[\"NV355\"],[\"OK426\"],[\"OL246\"],[\"SN437\"],[\"PE43K\"],[\"PK553\"],[\"PF765\"],[\"PSJ5J\"],[\"PQ052\"],[\"PA836\"],[\"SJJ18\"],[\"PRJ18\"],[\"RM041\"],[\"RO041\"],[\"EB040\"],[\"RV149\"],[\"SH266\"],[\"VT139\"],[\"SMK29\"],[\"SA418\"],[\"SAA0K\"],[\"SMJ67\"],[\"SO148\"],[\"SH42_\"],[\"SQ832\"],[\"LD160\"],[\"THJ76\"],[\"THJ77\"],[\"TV51R\"],[\"TM308\"],[\"TR169\"],[\"TUJ2O\"],[\"TNJ20\"],[\"TZ362\"],[\"WA619\"],[\"WP937\"],[\"WI937\"],[\"MZ152\"],[\"WU430\"],[\"XI434\"],[\"YA462\"],[\"ZH466\"],[\"ZS36R\"]],\"geo\":\"geo\",\"hovertemplate\":\"<b>%{hovertext}</b><br><br>LAT=%{lat}<br>LONG=%{lon}<br>URSI=%{customdata[0]}<extra></extra>\",\"hovertext\":[\"AHMEDABAD\",\"ALPENA\",\"ANYANG\",\"ASCENSION ISLAND\",\"ATHENS\",\"AUSTIN\",\"BEIJING\",\"BELEM\",\"BERMUDA\",\"BOA VISTA\",\"BOULDER\",\"BRISBANE\",\"BUNDOORA\",\"CACHIMBO\",\"CACHOEIRA PAULISTA\",\"CAMDEN\",\"CAMPO GRANDE\",\"CANBERRA\",\"CHERRY\",\"CHILTON\",\"COCOS_ISLAND\",\"COLLEGE AK\",\"COLORADO_SPRINGS\",\"DARWIN\",\"DOURBES\",\"DYESS AFB\",\"EARECKSON\",\"EGLIN AFB\",\"EIELSON\",\"EISCAT TROMSO\",\"EL ARENOSILLO\",\"ELEKTROUGLI\",\"FAIRFORD\",\"FORTALEZA\",\"GADANKI\",\"GAKONA\",\"GIBILMANNA\",\"GOOSE BAY\",\"GRAHAMSTOWN\",\"GUAM\",\"HAINAN\",\"HANSCOM AFB\",\"HERMANUS\",\"HOBART\",\"I-CHEON\",\"IDAHO NATIONAL LAB\",\"IDAHO NATIONAL LAB\",\"ILORIN\",\"IRKUTSK\",\"JANG BOGO\",\"JEJU\",\"JICAMARCA\",\"JULIUSRUH\",\"KALININGRAD\",\"KENT IS\",\"KHABAROVSK\",\"KING SALMON\",\"KIRTLAND\",\"KIRUNA SWEDEN\",\"KOKUBUNJI\",\"KWAJALEIN\",\"LAVERTON\",\"LEARMONTH\",\"LOUISVALE\",\"LUALUALEI\",\"MADIMBO\",\"MAGADAN\",\"MELROSE\",\"MILLSTONE HILL\",\"MOHE\",\"MOSCOW\",\"MOSCOW\",\"MULTAN\",\"MUNYO\",\"NARSSARSSUAQ\",\"NICOSIA\",\"NIUE\",\"NORD GREENLAND\",\"NORFOLK\",\"NORILSK\",\"NOVOSIBIRSK\",\"OKINAWA\",\"OLSZTYN\",\"OSAN AB\",\"PERTH\",\"PETROPAVLOVSK\",\"POKER FLAT\",\"PORT STANLEY\",\"PRUHONICE\",\"PT ARGUELLO\",\"PUERTO RICO\",\"RAMEY\",\"ROME\",\"ROME\",\"ROQUETES\",\"ROSTOV\",\"SALEKHARD\",\"SAN VITO\",\"SANTA MARIA\",\"SANYA\",\"SAOLUIS\",\"SONDRESTROM\",\"SOPRON\",\"SOUTH HEDLAND\",\"SQUIRT\",\"ST. PETERSBURG\",\"THULE\",\"THULE/QAANAAQ\",\"TOWNSVILLE\",\"TRIVANDRUM\",\"TROMSO\",\"TUCUMAN\",\"TUCUMAN AIS-INGV\",\"TUNGUSKA\",\"WAKE\",\"WALLOPS IS\",\"WALLOPS ISLAND\",\"WARSAW\",\"WUHAN\",\"XINXIANG CHINA\",\"YAKUTSK\",\"ZHIGANSK\",\"ZHONG SHAN\"],\"lat\":[23.0,45.07,37.39,-7.95,38.0,30.4,40.3,1.43,32.4,2.8,40.0,-27.06,-37.7,-9.5,-22.7,-34.05,-20.5,-35.32,32.9,51.5,-12.18,64.9,39.0,-12.45,50.1,32.4,52.73,30.5,64.66,69.58,37.1,55.76,51.7,-3.9,13.46,62.38,37.9,53.3,-33.3,13.62,19.4,42.5,-34.42,-42.92,37.14,43.81,43.81,8.5,52.4,-74.62,33.43,-12.0,54.6,54.36,38.96,47.52,58.4,35.0,67.86,35.7,9.0,-28.3,-21.8,-28.5,21.43,-22.39,60.09,29.71,42.6,52.0,55.49,55.47,33.03,33.56,61.2,35.03,-19.07,81.4,-29.03,69.2,55.02,26.68,53.8,37.1,-32.0,52.97,65.13,-51.6,50.0,34.8,18.11,18.5,41.8,41.9,40.8,47.24,66.51,40.6,-29.73,18.34,-2.6,66.98,47.63,-20.4,32.42,60.0,76.54,77.5,-19.63,8.54,69.6,-26.9,-26.9,61.58,19.29,37.9,37.94,52.2,30.5,35.3,62.0,66.8,-69.4],\"legendgroup\":\"\",\"lon\":[72.5,276.44,126.95,345.6,23.5,262.3,116.2,311.56,295.3,299.3,254.7,153.06,145.05,305.2,315.0,150.67,305.0,149.0,253.59,359.4,96.83,212.0,255.12,130.95,4.6,260.2,185.92,273.5,212.93,19.22,353.3,38.28,358.5,321.6,79.17,215.0,14.0,299.7,26.5,144.86,109.0,288.7,19.22,147.32,127.54,247.32,247.32,4.5,104.3,164.24,126.3,283.2,13.4,20.12,283.72,134.77,203.6,253.47,20.43,139.5,167.2,122.8,114.1,21.2,201.85,30.88,150.93,278.0,288.5,122.52,37.29,37.3,72.01,253.35,314.6,33.16,190.07,342.5,167.97,88.0,82.21,128.15,20.5,127.0,116.13,158.24,212.55,302.1,14.6,239.5,293.75,292.9,12.5,12.5,0.5,39.63,66.66,17.8,306.29,109.42,315.8,309.06,16.72,118.5,253.71,30.7,291.56,290.8,146.85,76.87,19.2,294.6,294.6,90.02,166.65,284.5,284.42,21.1,114.4,113.92,129.6,123.4,76.4],\"marker\":{\"color\":\"#636efa\",\"symbol\":\"circle\"},\"mode\":\"markers\",\"name\":\"\",\"showlegend\":false,\"type\":\"scattergeo\"}],                        {\"template\":{\"data\":{\"histogram2dcontour\":[{\"type\":\"histogram2dcontour\",\"colorbar\":{\"outlinewidth\":0,\"ticks\":\"\"},\"colorscale\":[[0.0,\"#0d0887\"],[0.1111111111111111,\"#46039f\"],[0.2222222222222222,\"#7201a8\"],[0.3333333333333333,\"#9c179e\"],[0.4444444444444444,\"#bd3786\"],[0.5555555555555556,\"#d8576b\"],[0.6666666666666666,\"#ed7953\"],[0.7777777777777778,\"#fb9f3a\"],[0.8888888888888888,\"#fdca26\"],[1.0,\"#f0f921\"]]}],\"choropleth\":[{\"type\":\"choropleth\",\"colorbar\":{\"outlinewidth\":0,\"ticks\":\"\"}}],\"histogram2d\":[{\"type\":\"histogram2d\",\"colorbar\":{\"outlinewidth\":0,\"ticks\":\"\"},\"colorscale\":[[0.0,\"#0d0887\"],[0.1111111111111111,\"#46039f\"],[0.2222222222222222,\"#7201a8\"],[0.3333333333333333,\"#9c179e\"],[0.4444444444444444,\"#bd3786\"],[0.5555555555555556,\"#d8576b\"],[0.6666666666666666,\"#ed7953\"],[0.7777777777777778,\"#fb9f3a\"],[0.8888888888888888,\"#fdca26\"],[1.0,\"#f0f921\"]]}],\"heatmap\":[{\"type\":\"heatmap\",\"colorbar\":{\"outlinewidth\":0,\"ticks\":\"\"},\"colorscale\":[[0.0,\"#0d0887\"],[0.1111111111111111,\"#46039f\"],[0.2222222222222222,\"#7201a8\"],[0.3333333333333333,\"#9c179e\"],[0.4444444444444444,\"#bd3786\"],[0.5555555555555556,\"#d8576b\"],[0.6666666666666666,\"#ed7953\"],[0.7777777777777778,\"#fb9f3a\"],[0.8888888888888888,\"#fdca26\"],[1.0,\"#f0f921\"]]}],\"heatmapgl\":[{\"type\":\"heatmapgl\",\"colorbar\":{\"outlinewidth\":0,\"ticks\":\"\"},\"colorscale\":[[0.0,\"#0d0887\"],[0.1111111111111111,\"#46039f\"],[0.2222222222222222,\"#7201a8\"],[0.3333333333333333,\"#9c179e\"],[0.4444444444444444,\"#bd3786\"],[0.5555555555555556,\"#d8576b\"],[0.6666666666666666,\"#ed7953\"],[0.7777777777777778,\"#fb9f3a\"],[0.8888888888888888,\"#fdca26\"],[1.0,\"#f0f921\"]]}],\"contourcarpet\":[{\"type\":\"contourcarpet\",\"colorbar\":{\"outlinewidth\":0,\"ticks\":\"\"}}],\"contour\":[{\"type\":\"contour\",\"colorbar\":{\"outlinewidth\":0,\"ticks\":\"\"},\"colorscale\":[[0.0,\"#0d0887\"],[0.1111111111111111,\"#46039f\"],[0.2222222222222222,\"#7201a8\"],[0.3333333333333333,\"#9c179e\"],[0.4444444444444444,\"#bd3786\"],[0.5555555555555556,\"#d8576b\"],[0.6666666666666666,\"#ed7953\"],[0.7777777777777778,\"#fb9f3a\"],[0.8888888888888888,\"#fdca26\"],[1.0,\"#f0f921\"]]}],\"surface\":[{\"type\":\"surface\",\"colorbar\":{\"outlinewidth\":0,\"ticks\":\"\"},\"colorscale\":[[0.0,\"#0d0887\"],[0.1111111111111111,\"#46039f\"],[0.2222222222222222,\"#7201a8\"],[0.3333333333333333,\"#9c179e\"],[0.4444444444444444,\"#bd3786\"],[0.5555555555555556,\"#d8576b\"],[0.6666666666666666,\"#ed7953\"],[0.7777777777777778,\"#fb9f3a\"],[0.8888888888888888,\"#fdca26\"],[1.0,\"#f0f921\"]]}],\"mesh3d\":[{\"type\":\"mesh3d\",\"colorbar\":{\"outlinewidth\":0,\"ticks\":\"\"}}],\"scatter\":[{\"fillpattern\":{\"fillmode\":\"overlay\",\"size\":10,\"solidity\":0.2},\"type\":\"scatter\"}],\"parcoords\":[{\"type\":\"parcoords\",\"line\":{\"colorbar\":{\"outlinewidth\":0,\"ticks\":\"\"}}}],\"scatterpolargl\":[{\"type\":\"scatterpolargl\",\"marker\":{\"colorbar\":{\"outlinewidth\":0,\"ticks\":\"\"}}}],\"bar\":[{\"error_x\":{\"color\":\"#2a3f5f\"},\"error_y\":{\"color\":\"#2a3f5f\"},\"marker\":{\"line\":{\"color\":\"#E5ECF6\",\"width\":0.5},\"pattern\":{\"fillmode\":\"overlay\",\"size\":10,\"solidity\":0.2}},\"type\":\"bar\"}],\"scattergeo\":[{\"type\":\"scattergeo\",\"marker\":{\"colorbar\":{\"outlinewidth\":0,\"ticks\":\"\"}}}],\"scatterpolar\":[{\"type\":\"scatterpolar\",\"marker\":{\"colorbar\":{\"outlinewidth\":0,\"ticks\":\"\"}}}],\"histogram\":[{\"marker\":{\"pattern\":{\"fillmode\":\"overlay\",\"size\":10,\"solidity\":0.2}},\"type\":\"histogram\"}],\"scattergl\":[{\"type\":\"scattergl\",\"marker\":{\"colorbar\":{\"outlinewidth\":0,\"ticks\":\"\"}}}],\"scatter3d\":[{\"type\":\"scatter3d\",\"line\":{\"colorbar\":{\"outlinewidth\":0,\"ticks\":\"\"}},\"marker\":{\"colorbar\":{\"outlinewidth\":0,\"ticks\":\"\"}}}],\"scattermapbox\":[{\"type\":\"scattermapbox\",\"marker\":{\"colorbar\":{\"outlinewidth\":0,\"ticks\":\"\"}}}],\"scatterternary\":[{\"type\":\"scatterternary\",\"marker\":{\"colorbar\":{\"outlinewidth\":0,\"ticks\":\"\"}}}],\"scattercarpet\":[{\"type\":\"scattercarpet\",\"marker\":{\"colorbar\":{\"outlinewidth\":0,\"ticks\":\"\"}}}],\"carpet\":[{\"aaxis\":{\"endlinecolor\":\"#2a3f5f\",\"gridcolor\":\"white\",\"linecolor\":\"white\",\"minorgridcolor\":\"white\",\"startlinecolor\":\"#2a3f5f\"},\"baxis\":{\"endlinecolor\":\"#2a3f5f\",\"gridcolor\":\"white\",\"linecolor\":\"white\",\"minorgridcolor\":\"white\",\"startlinecolor\":\"#2a3f5f\"},\"type\":\"carpet\"}],\"table\":[{\"cells\":{\"fill\":{\"color\":\"#EBF0F8\"},\"line\":{\"color\":\"white\"}},\"header\":{\"fill\":{\"color\":\"#C8D4E3\"},\"line\":{\"color\":\"white\"}},\"type\":\"table\"}],\"barpolar\":[{\"marker\":{\"line\":{\"color\":\"#E5ECF6\",\"width\":0.5},\"pattern\":{\"fillmode\":\"overlay\",\"size\":10,\"solidity\":0.2}},\"type\":\"barpolar\"}],\"pie\":[{\"automargin\":true,\"type\":\"pie\"}]},\"layout\":{\"autotypenumbers\":\"strict\",\"colorway\":[\"#636efa\",\"#EF553B\",\"#00cc96\",\"#ab63fa\",\"#FFA15A\",\"#19d3f3\",\"#FF6692\",\"#B6E880\",\"#FF97FF\",\"#FECB52\"],\"font\":{\"color\":\"#2a3f5f\"},\"hovermode\":\"closest\",\"hoverlabel\":{\"align\":\"left\"},\"paper_bgcolor\":\"white\",\"plot_bgcolor\":\"#E5ECF6\",\"polar\":{\"bgcolor\":\"#E5ECF6\",\"angularaxis\":{\"gridcolor\":\"white\",\"linecolor\":\"white\",\"ticks\":\"\"},\"radialaxis\":{\"gridcolor\":\"white\",\"linecolor\":\"white\",\"ticks\":\"\"}},\"ternary\":{\"bgcolor\":\"#E5ECF6\",\"aaxis\":{\"gridcolor\":\"white\",\"linecolor\":\"white\",\"ticks\":\"\"},\"baxis\":{\"gridcolor\":\"white\",\"linecolor\":\"white\",\"ticks\":\"\"},\"caxis\":{\"gridcolor\":\"white\",\"linecolor\":\"white\",\"ticks\":\"\"}},\"coloraxis\":{\"colorbar\":{\"outlinewidth\":0,\"ticks\":\"\"}},\"colorscale\":{\"sequential\":[[0.0,\"#0d0887\"],[0.1111111111111111,\"#46039f\"],[0.2222222222222222,\"#7201a8\"],[0.3333333333333333,\"#9c179e\"],[0.4444444444444444,\"#bd3786\"],[0.5555555555555556,\"#d8576b\"],[0.6666666666666666,\"#ed7953\"],[0.7777777777777778,\"#fb9f3a\"],[0.8888888888888888,\"#fdca26\"],[1.0,\"#f0f921\"]],\"sequentialminus\":[[0.0,\"#0d0887\"],[0.1111111111111111,\"#46039f\"],[0.2222222222222222,\"#7201a8\"],[0.3333333333333333,\"#9c179e\"],[0.4444444444444444,\"#bd3786\"],[0.5555555555555556,\"#d8576b\"],[0.6666666666666666,\"#ed7953\"],[0.7777777777777778,\"#fb9f3a\"],[0.8888888888888888,\"#fdca26\"],[1.0,\"#f0f921\"]],\"diverging\":[[0,\"#8e0152\"],[0.1,\"#c51b7d\"],[0.2,\"#de77ae\"],[0.3,\"#f1b6da\"],[0.4,\"#fde0ef\"],[0.5,\"#f7f7f7\"],[0.6,\"#e6f5d0\"],[0.7,\"#b8e186\"],[0.8,\"#7fbc41\"],[0.9,\"#4d9221\"],[1,\"#276419\"]]},\"xaxis\":{\"gridcolor\":\"white\",\"linecolor\":\"white\",\"ticks\":\"\",\"title\":{\"standoff\":15},\"zerolinecolor\":\"white\",\"automargin\":true,\"zerolinewidth\":2},\"yaxis\":{\"gridcolor\":\"white\",\"linecolor\":\"white\",\"ticks\":\"\",\"title\":{\"standoff\":15},\"zerolinecolor\":\"white\",\"automargin\":true,\"zerolinewidth\":2},\"scene\":{\"xaxis\":{\"backgroundcolor\":\"#E5ECF6\",\"gridcolor\":\"white\",\"linecolor\":\"white\",\"showbackground\":true,\"ticks\":\"\",\"zerolinecolor\":\"white\",\"gridwidth\":2},\"yaxis\":{\"backgroundcolor\":\"#E5ECF6\",\"gridcolor\":\"white\",\"linecolor\":\"white\",\"showbackground\":true,\"ticks\":\"\",\"zerolinecolor\":\"white\",\"gridwidth\":2},\"zaxis\":{\"backgroundcolor\":\"#E5ECF6\",\"gridcolor\":\"white\",\"linecolor\":\"white\",\"showbackground\":true,\"ticks\":\"\",\"zerolinecolor\":\"white\",\"gridwidth\":2}},\"shapedefaults\":{\"line\":{\"color\":\"#2a3f5f\"}},\"annotationdefaults\":{\"arrowcolor\":\"#2a3f5f\",\"arrowhead\":0,\"arrowwidth\":1},\"geo\":{\"bgcolor\":\"white\",\"landcolor\":\"#E5ECF6\",\"subunitcolor\":\"white\",\"showland\":true,\"showlakes\":true,\"lakecolor\":\"white\"},\"title\":{\"x\":0.05},\"mapbox\":{\"style\":\"light\"}}},\"geo\":{\"domain\":{\"x\":[0.0,1.0],\"y\":[0.0,1.0]},\"center\":{}},\"legend\":{\"tracegroupgap\":0},\"margin\":{\"t\":60},\"title\":{\"text\":\"Stations\"}},                        {\"responsive\": true}                    ).then(function(){\n",
       "                            \n",
       "var gd = document.getElementById('0bbb4530-1275-456a-ad1f-23ccf78230a9');\n",
       "var x = new MutationObserver(function (mutations, observer) {{\n",
       "        var display = window.getComputedStyle(gd).display;\n",
       "        if (!display || display === 'none') {{\n",
       "            console.log([gd, 'removed!']);\n",
       "            Plotly.purge(gd);\n",
       "            observer.disconnect();\n",
       "        }}\n",
       "}});\n",
       "\n",
       "// Listen for the removal of the full notebook cells\n",
       "var notebookContainer = gd.closest('#notebook-container');\n",
       "if (notebookContainer) {{\n",
       "    x.observe(notebookContainer, {childList: true});\n",
       "}}\n",
       "\n",
       "// Listen for the clearing of the current output cell\n",
       "var outputEl = gd.closest('.output');\n",
       "if (outputEl) {{\n",
       "    x.observe(outputEl, {childList: true});\n",
       "}}\n",
       "\n",
       "                        })                };                });            </script>        </div>"
      ]
     },
     "metadata": {},
     "output_type": "display_data"
    }
   ],
   "source": [
    "# Map nodes:\n",
    "fig = px.scatter_geo(stations, \"LAT\", \"LONG\",\n",
    "#                      color=\"Status\", # which column to use to set the color of markers\n",
    "                     hover_name=stations[\"STATION NAME\"], # column added to hover information\n",
    "                     hover_data=[stations.index], \n",
    "                     )\n",
    "fig.update_layout(title=\"Stations\")\n",
    "fig.show()\n",
    "fig.write_html(\"ionosonde_map.html\", include_plotlyjs=\"cdn\")"
   ]
  },
  {
   "cell_type": "markdown",
   "id": "432cddc4",
   "metadata": {},
   "source": [
    "## Functions to read data: "
   ]
  },
  {
   "cell_type": "markdown",
   "id": "cf444a73",
   "metadata": {},
   "source": [
    "### Construct URL\n",
    "Example: https://lgdc.uml.edu/common/DIDBGetValues?ursiCode=BC840&charName=hmE&fromDate=2020.01.29&toDate=2020.01.30"
   ]
  },
  {
   "cell_type": "code",
   "execution_count": 42,
   "id": "3ed03394",
   "metadata": {},
   "outputs": [
    {
     "data": {
      "text/plain": [
       "'http://lgdc.uml.edu/common/DIDBGetValues?ursiCode=BC840&charName=hmE&fromDate=2020.01.29&toDate=2020.01.30'"
      ]
     },
     "execution_count": 42,
     "metadata": {},
     "output_type": "execute_result"
    }
   ],
   "source": [
    "# url = \"https://lgdc.uml.edu/common/DIDBGetValues?ursiCode=BC840&charName=hmE&fromDate=2020.01.29&toDate=2020.01.30\"\n",
    "\n",
    "import requests\n",
    "\n",
    "# Parameters:\n",
    "    # f0F2 f0F1 MD (MUF(D) /foF2) fmin f0ES fminF fminE foE fxI hF hF2 hE hEs hmE yE QF QE FF FE\n",
    "    # hmF2 hmF1 zhalfNm finEs yF2 yF2 TEC scaleF2 (scale height at F2 peak) B0 B1 D1 f0Ea\n",
    "    # hEa foP hP fbEs TypeEs\n",
    "\n",
    "def urlmaker(URSIcode, parameter, fromDate, toDate):\n",
    "    URL = 'http://lgdc.uml.edu/common/DIDBGetValues' + \\\n",
    "      '?ursiCode=' + URSIcode + \\\n",
    "      '&charName=' + parameter + \\\n",
    "      '&fromDate=' + fromDate + \\\n",
    "      '&toDate='   + toDate\n",
    "    return URL\n",
    "\n",
    "\n",
    "url = urlmaker(URSIcode = 'BC840', parameter = 'hmE', fromDate = '2020.01.29', toDate = '2020.01.30')\n",
    "url"
   ]
  },
  {
   "cell_type": "markdown",
   "id": "5708043f",
   "metadata": {},
   "source": [
    "### Read URL data"
   ]
  },
  {
   "cell_type": "code",
   "execution_count": 43,
   "id": "afcd9403",
   "metadata": {},
   "outputs": [],
   "source": [
    "def didread(url):\n",
    "    file = urllib.request.urlopen(url)\n",
    "\n",
    "    id = []                                                     # commented lines\n",
    "    ego = []                                                    # get it? as opposed to \"id\"? (I'm tired.)\n",
    "    for line in file:\n",
    "        decoded_line = line.decode(\"utf-8\")\n",
    "        if decoded_line.startswith(\"#\"):\n",
    "    #         print(decoded_line)\n",
    "            id.append(decoded_line)\n",
    "        else:\n",
    "            ego.append(decoded_line.split())\n",
    "    id                                                          # print header information\n",
    "\n",
    "    headers = id[len(id)-1]                                     # Pull headers from url file\n",
    "    headers.split()                                             \n",
    "    df = pd.DataFrame(ego)                                      # Create dataframe\n",
    "    df.columns = headers.split()\n",
    "    df=df.rename(columns = {'#Time':'Time'})                    # Fix column name\n",
    "    df['Time'] = pd.to_datetime(df['Time'])                     # Cast timestamp to datetime\n",
    "    return df"
   ]
  },
  {
   "cell_type": "markdown",
   "id": "5692341c",
   "metadata": {},
   "source": [
    "### Plot data from multiple ionosondes for a given date and parameter:\n",
    "\n",
    "First, set your parameters of interest in this cell:"
   ]
  },
  {
   "cell_type": "code",
   "execution_count": 44,
   "id": "89ceb2c8-f0fb-4658-8b7c-6e665a6dd382",
   "metadata": {},
   "outputs": [],
   "source": [
    "# This stuff's not going to change from station to station:\n",
    "parameter = 'hmF2'\n",
    "fromDate = '2022.10.24' \n",
    "toDate = '2022.10.25'\n",
    "cadence = '1T'                                      # '5T' is a 5 minute cadence\n",
    "\n",
    "# Let's confine our search to just a couple of stations. Comment this line out if you want to see ALL of them. \n",
    "# stations = stations.loc[stations['STATION NAME'].isin(['AUSTIN','BOULDER'])]"
   ]
  },
  {
   "cell_type": "code",
   "execution_count": 45,
   "id": "f3309796-ab1e-479f-a8d0-ffdc6af903ca",
   "metadata": {},
   "outputs": [],
   "source": [
    "#  Alternatively, we can just look at stations that are in and around the continental United States:\n",
    "NSEW = [80, 20, -120+360, -60+360] # north, south, east, west bounds \n",
    "stations = stations.loc[(stations['LAT']<NSEW[0]) & (stations['LAT']>NSEW[1]) & (stations['LONG']>NSEW[2]) & (stations['LONG']<NSEW[3])].copy()"
   ]
  },
  {
   "cell_type": "code",
   "execution_count": 46,
   "id": "2194fd98",
   "metadata": {},
   "outputs": [
    {
     "name": "stdout",
     "output_type": "stream",
     "text": [
      "Merging data...AL945: ALPENA\n",
      "Merging data...AU930: AUSTIN\n",
      "Merging data...BC840: BOULDER\n",
      "Merging data...EG931: EGLIN AFB\n",
      "Merging data...IF843: IDAHO NATIONAL LAB\n",
      "Merging data...MHJ45: MILLSTONE HILL\n",
      "Merging data...THJ76: THULE\n",
      "Merging data...WP937: WALLOPS IS\n",
      "\n",
      "Here is the hmF2 data you requested:\n"
     ]
    },
    {
     "data": {
      "text/html": [
       "<div>\n",
       "<style scoped>\n",
       "    .dataframe tbody tr th:only-of-type {\n",
       "        vertical-align: middle;\n",
       "    }\n",
       "\n",
       "    .dataframe tbody tr th {\n",
       "        vertical-align: top;\n",
       "    }\n",
       "\n",
       "    .dataframe thead th {\n",
       "        text-align: right;\n",
       "    }\n",
       "</style>\n",
       "<table border=\"1\" class=\"dataframe\">\n",
       "  <thead>\n",
       "    <tr style=\"text-align: right;\">\n",
       "      <th></th>\n",
       "      <th>ALPENA</th>\n",
       "      <th>AUSTIN</th>\n",
       "      <th>BOULDER</th>\n",
       "      <th>EGLIN AFB</th>\n",
       "      <th>IDAHO NATIONAL LAB</th>\n",
       "      <th>MILLSTONE HILL</th>\n",
       "      <th>THULE</th>\n",
       "      <th>WALLOPS IS</th>\n",
       "    </tr>\n",
       "    <tr>\n",
       "      <th>Time</th>\n",
       "      <th></th>\n",
       "      <th></th>\n",
       "      <th></th>\n",
       "      <th></th>\n",
       "      <th></th>\n",
       "      <th></th>\n",
       "      <th></th>\n",
       "      <th></th>\n",
       "    </tr>\n",
       "  </thead>\n",
       "  <tbody>\n",
       "    <tr>\n",
       "      <th>2022-10-24 00:00:00+00:00</th>\n",
       "      <td>296.8</td>\n",
       "      <td>NaN</td>\n",
       "      <td>NaN</td>\n",
       "      <td>253.8</td>\n",
       "      <td>252.4</td>\n",
       "      <td>289.7</td>\n",
       "      <td>319.7</td>\n",
       "      <td>NaN</td>\n",
       "    </tr>\n",
       "    <tr>\n",
       "      <th>2022-10-24 00:05:00+00:00</th>\n",
       "      <td>NaN</td>\n",
       "      <td>NaN</td>\n",
       "      <td>NaN</td>\n",
       "      <td>NaN</td>\n",
       "      <td>NaN</td>\n",
       "      <td>NaN</td>\n",
       "      <td>NaN</td>\n",
       "      <td>NaN</td>\n",
       "    </tr>\n",
       "    <tr>\n",
       "      <th>2022-10-24 00:10:00+00:00</th>\n",
       "      <td>NaN</td>\n",
       "      <td>NaN</td>\n",
       "      <td>NaN</td>\n",
       "      <td>NaN</td>\n",
       "      <td>NaN</td>\n",
       "      <td>NaN</td>\n",
       "      <td>NaN</td>\n",
       "      <td>NaN</td>\n",
       "    </tr>\n",
       "    <tr>\n",
       "      <th>2022-10-24 00:15:00+00:00</th>\n",
       "      <td>294.9</td>\n",
       "      <td>NaN</td>\n",
       "      <td>NaN</td>\n",
       "      <td>253.5</td>\n",
       "      <td>285.0</td>\n",
       "      <td>324.1</td>\n",
       "      <td>385.1</td>\n",
       "      <td>NaN</td>\n",
       "    </tr>\n",
       "    <tr>\n",
       "      <th>2022-10-24 00:20:00+00:00</th>\n",
       "      <td>NaN</td>\n",
       "      <td>NaN</td>\n",
       "      <td>NaN</td>\n",
       "      <td>NaN</td>\n",
       "      <td>NaN</td>\n",
       "      <td>NaN</td>\n",
       "      <td>NaN</td>\n",
       "      <td>NaN</td>\n",
       "    </tr>\n",
       "    <tr>\n",
       "      <th>...</th>\n",
       "      <td>...</td>\n",
       "      <td>...</td>\n",
       "      <td>...</td>\n",
       "      <td>...</td>\n",
       "      <td>...</td>\n",
       "      <td>...</td>\n",
       "      <td>...</td>\n",
       "      <td>...</td>\n",
       "    </tr>\n",
       "    <tr>\n",
       "      <th>2022-10-24 23:30:08+00:00</th>\n",
       "      <td>NaN</td>\n",
       "      <td>NaN</td>\n",
       "      <td>NaN</td>\n",
       "      <td>NaN</td>\n",
       "      <td>NaN</td>\n",
       "      <td>NaN</td>\n",
       "      <td>NaN</td>\n",
       "      <td>261.8</td>\n",
       "    </tr>\n",
       "    <tr>\n",
       "      <th>2022-10-24 23:35:08+00:00</th>\n",
       "      <td>NaN</td>\n",
       "      <td>NaN</td>\n",
       "      <td>NaN</td>\n",
       "      <td>NaN</td>\n",
       "      <td>NaN</td>\n",
       "      <td>NaN</td>\n",
       "      <td>NaN</td>\n",
       "      <td>274.6</td>\n",
       "    </tr>\n",
       "    <tr>\n",
       "      <th>2022-10-24 23:40:08+00:00</th>\n",
       "      <td>NaN</td>\n",
       "      <td>NaN</td>\n",
       "      <td>NaN</td>\n",
       "      <td>NaN</td>\n",
       "      <td>NaN</td>\n",
       "      <td>NaN</td>\n",
       "      <td>NaN</td>\n",
       "      <td>300.6</td>\n",
       "    </tr>\n",
       "    <tr>\n",
       "      <th>2022-10-24 23:45:08+00:00</th>\n",
       "      <td>NaN</td>\n",
       "      <td>NaN</td>\n",
       "      <td>NaN</td>\n",
       "      <td>NaN</td>\n",
       "      <td>NaN</td>\n",
       "      <td>NaN</td>\n",
       "      <td>NaN</td>\n",
       "      <td>293.7</td>\n",
       "    </tr>\n",
       "    <tr>\n",
       "      <th>2022-10-24 23:55:08+00:00</th>\n",
       "      <td>NaN</td>\n",
       "      <td>NaN</td>\n",
       "      <td>NaN</td>\n",
       "      <td>NaN</td>\n",
       "      <td>NaN</td>\n",
       "      <td>NaN</td>\n",
       "      <td>NaN</td>\n",
       "      <td>301.5</td>\n",
       "    </tr>\n",
       "  </tbody>\n",
       "</table>\n",
       "<p>1469 rows × 8 columns</p>\n",
       "</div>"
      ],
      "text/plain": [
       "                          ALPENA AUSTIN BOULDER EGLIN AFB IDAHO NATIONAL LAB  \\\n",
       "Time                                                                           \n",
       "2022-10-24 00:00:00+00:00  296.8    NaN     NaN     253.8              252.4   \n",
       "2022-10-24 00:05:00+00:00    NaN    NaN     NaN       NaN                NaN   \n",
       "2022-10-24 00:10:00+00:00    NaN    NaN     NaN       NaN                NaN   \n",
       "2022-10-24 00:15:00+00:00  294.9    NaN     NaN     253.5              285.0   \n",
       "2022-10-24 00:20:00+00:00    NaN    NaN     NaN       NaN                NaN   \n",
       "...                          ...    ...     ...       ...                ...   \n",
       "2022-10-24 23:30:08+00:00    NaN    NaN     NaN       NaN                NaN   \n",
       "2022-10-24 23:35:08+00:00    NaN    NaN     NaN       NaN                NaN   \n",
       "2022-10-24 23:40:08+00:00    NaN    NaN     NaN       NaN                NaN   \n",
       "2022-10-24 23:45:08+00:00    NaN    NaN     NaN       NaN                NaN   \n",
       "2022-10-24 23:55:08+00:00    NaN    NaN     NaN       NaN                NaN   \n",
       "\n",
       "                          MILLSTONE HILL  THULE WALLOPS IS  \n",
       "Time                                                        \n",
       "2022-10-24 00:00:00+00:00          289.7  319.7        NaN  \n",
       "2022-10-24 00:05:00+00:00            NaN    NaN        NaN  \n",
       "2022-10-24 00:10:00+00:00            NaN    NaN        NaN  \n",
       "2022-10-24 00:15:00+00:00          324.1  385.1        NaN  \n",
       "2022-10-24 00:20:00+00:00            NaN    NaN        NaN  \n",
       "...                                  ...    ...        ...  \n",
       "2022-10-24 23:30:08+00:00            NaN    NaN      261.8  \n",
       "2022-10-24 23:35:08+00:00            NaN    NaN      274.6  \n",
       "2022-10-24 23:40:08+00:00            NaN    NaN      300.6  \n",
       "2022-10-24 23:45:08+00:00            NaN    NaN      293.7  \n",
       "2022-10-24 23:55:08+00:00            NaN    NaN      301.5  \n",
       "\n",
       "[1469 rows x 8 columns]"
      ]
     },
     "execution_count": 46,
     "metadata": {},
     "output_type": "execute_result"
    }
   ],
   "source": [
    "# How to generate df for a single station and set of parameters:\n",
    "# df = didread(urlmaker(URSIcode = 'BC840', parameter = 'hmE', fromDate = '2020.01.29', toDate = '2020.01.30'))\n",
    "\n",
    "# Preallocation:\n",
    "df = didread(urlmaker(URSIcode = 'AT138', parameter = parameter, fromDate = fromDate, toDate = toDate))\n",
    "df = df.drop(columns = ['CS', 'QD'])\n",
    "df['Time']= pd.to_datetime(df['Time']) # cast to datetime\n",
    "df = df.set_index('Time')\n",
    "pd.DataFrame.resample(df, cadence)\n",
    "\n",
    "\n",
    "# Iterating through all the ionosondes: \n",
    "for station in stations.index:\n",
    "    try:\n",
    "        df1 = didread(urlmaker(URSIcode = station, parameter = parameter, fromDate = fromDate, toDate = toDate))\n",
    "        foo = stations.loc[stations.index==station]\n",
    "        df1 = df1.rename(columns = {str(parameter):foo.iloc[0, 1]})\n",
    "        df1 = df1.drop(columns = ['CS', 'QD'])\n",
    "        \n",
    "        df1['Time']= pd.to_datetime(df1['Time']) # cast to datetime\n",
    "        df1 = df1.set_index('Time')\n",
    "        pd.DataFrame.resample(df1, cadence)\n",
    "#         df1 = df1.sort_values(by=\"Time\")        # not sure this line actually does anything...\n",
    "        \n",
    "        print('Merging data...' + station +\": \" + foo.iloc[0, 1])\n",
    "#         df1 = df1.sort_values(by=\"Time\")\n",
    "        df = pd.merge(df, df1, on = 'Time', how='outer')  \n",
    "#         df = pd.join(df, df1)\n",
    "    except:\n",
    "        continue\n",
    "\n",
    "df = df.drop(columns = [str(parameter)])                          # stone soup\n",
    "# df = df.set_index('Time')\n",
    "# df = df.sort_values(by=\"Time\")\n",
    "\n",
    "print('\\nHere is the ' + str(parameter) + ' data you requested:')\n",
    "df"
   ]
  },
  {
   "cell_type": "code",
   "execution_count": null,
   "id": "bec6c107",
   "metadata": {},
   "outputs": [],
   "source": [
    "# Generate an interactive plot\n",
    "# df = df.sort_values(by=\"Time\")  # This seems to break the plot for some reason.\n",
    "\n",
    "# Convert to numeric so plotly express can plot the data correctly:\n",
    "df[df.columns] = df[df.columns].apply(pd.to_numeric)\n",
    "\n",
    "print(df.info())     # for debugging:\n",
    "\n",
    "\n",
    "fig = px.scatter(df, title=str(parameter))  # Use px.line or px.scatter, according to your preference.\n",
    "\n",
    "\n",
    "fig.update_layout(autotypenumbers='convert types')     # converting to fix plotting\n",
    "\n",
    "\n",
    "fig.update_layout(\n",
    "    title=\"Ionosonde Data: \" + str(parameter),\n",
    "    xaxis_title=\"Time (UTC)\",\n",
    "    yaxis_title=str(parameter),\n",
    "    legend_title=\"Station\",\n",
    "    font=dict(\n",
    "        family=\"Courier New, monospace\",\n",
    "        size=18,\n",
    "#         color=\"RebeccaPurple\"\n",
    "    )\n",
    ")\n",
    "\n",
    "# Eliminate the gray background plotly express uses by default:\n",
    "fig.update_layout({\n",
    "'plot_bgcolor': 'rgba(0, 0, 0, 0)',\n",
    "'paper_bgcolor': 'rgba(0, 0, 0, 0)',\n",
    "})\n",
    "\n",
    "fig.show()\n",
    "fig.write_html(\"plots/\"+ str(parameter) + \"_plot.html\", include_plotlyjs=\"cdn\")\n"
   ]
  },
  {
   "cell_type": "code",
   "execution_count": 48,
   "id": "adc76516",
   "metadata": {},
   "outputs": [],
   "source": [
    "# # Comment in to write dataframe to CSV:\n",
    "df.to_csv('data/' + str(parameter) + '.csv')"
   ]
  }
 ],
 "metadata": {
  "kernelspec": {
   "display_name": "Python 3 (ipykernel)",
   "language": "python",
   "name": "python3"
  },
  "language_info": {
   "codemirror_mode": {
    "name": "ipython",
    "version": 3
   },
   "file_extension": ".py",
   "mimetype": "text/x-python",
   "name": "python",
   "nbconvert_exporter": "python",
   "pygments_lexer": "ipython3",
   "version": "3.9.1"
  },
  "widgets": {
   "application/vnd.jupyter.widget-state+json": {
    "state": {},
    "version_major": 2,
    "version_minor": 0
   }
  }
 },
 "nbformat": 4,
 "nbformat_minor": 5
}
